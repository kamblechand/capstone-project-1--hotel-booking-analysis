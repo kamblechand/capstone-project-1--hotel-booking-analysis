{
  "nbformat": 4,
  "nbformat_minor": 0,
  "metadata": {
    "kernelspec": {
      "display_name": "Python 3",
      "language": "python",
      "name": "python3"
    },
    "language_info": {
      "codemirror_mode": {
        "name": "ipython",
        "version": 3
      },
      "file_extension": ".py",
      "mimetype": "text/x-python",
      "name": "python",
      "nbconvert_exporter": "python",
      "pygments_lexer": "ipython3",
      "version": "3.6.6"
    },
    "colab": {
      "provenance": [],
      "collapsed_sections": [],
      "include_colab_link": true
    }
  },
  "cells": [
    {
      "cell_type": "markdown",
      "metadata": {
        "id": "view-in-github",
        "colab_type": "text"
      },
      "source": [
        "<a href=\"https://colab.research.google.com/github/kamblechand/capstone-project-1--hotel-booking-analysis/blob/main/Hotel_Booking_Analysis_1_Capstone_Project.ipynb\" target=\"_parent\"><img src=\"https://colab.research.google.com/assets/colab-badge.svg\" alt=\"Open In Colab\"/></a>"
      ]
    },
    {
      "cell_type": "markdown",
      "metadata": {
        "id": "Y06xIdG26kRF"
      },
      "source": [
        "## <b> Have you ever wondered when the best time of year to book a hotel room is? Or the optimal length of stay in order to get the best daily rate? What if you wanted to predict whether or not a hotel was likely to receive a disproportionately high number of special requests? This hotel booking dataset can help you explore those questions!\n",
        "\n",
        "## <b>This data set contains booking information for a city hotel and a resort hotel, and includes information such as when the booking was made, length of stay, the number of adults, children, and/or babies, and the number of available parking spaces, among other things. All personally identifying information has been removed from the data. </b>\n",
        "\n",
        "## <b> Explore and analyze the data to discover important factors that govern the bookings. </b>"
      ]
    },
    {
      "cell_type": "code",
      "metadata": {
        "id": "dByMsuzT8Tnw"
      },
      "source": [
        "import numpy as np\n",
        "import pandas as pd\n",
        "import seaborn as sns\n",
        "import matplotlib.pyplot as plt\n",
        "%matplotlib inline"
      ],
      "execution_count": 1,
      "outputs": []
    },
    {
      "cell_type": "code",
      "source": [
        "from google.colab import drive\n",
        "drive.mount('/content/drive')"
      ],
      "metadata": {
        "id": "wq5gS9_VYBxO",
        "colab": {
          "base_uri": "https://localhost:8080/"
        },
        "outputId": "73d906cb-3de4-48c0-c6bd-1fd44304b839"
      },
      "execution_count": 2,
      "outputs": [
        {
          "output_type": "stream",
          "name": "stdout",
          "text": [
            "Mounted at /content/drive\n"
          ]
        }
      ]
    },
    {
      "cell_type": "code",
      "source": [
        "working_directory='/content/drive/MyDrive/alma/projectfiles/'\n",
        "df=pd.read_csv(working_directory+'Hotel Bookings.csv')\n",
        "df.head(100)\n"
      ],
      "metadata": {
        "id": "NRA43YW3YPY-",
        "colab": {
          "base_uri": "https://localhost:8080/",
          "height": 661
        },
        "outputId": "b63e5b2a-75b3-47f8-bf0a-971f465fe46c"
      },
      "execution_count": 3,
      "outputs": [
        {
          "output_type": "execute_result",
          "data": {
            "text/plain": [
              "           hotel  is_canceled  lead_time  arrival_date_year  \\\n",
              "0   Resort Hotel            0        342               2015   \n",
              "1   Resort Hotel            0        737               2015   \n",
              "2   Resort Hotel            0          7               2015   \n",
              "3   Resort Hotel            0         13               2015   \n",
              "4   Resort Hotel            0         14               2015   \n",
              "..           ...          ...        ...                ...   \n",
              "95  Resort Hotel            1         72               2015   \n",
              "96  Resort Hotel            1         63               2015   \n",
              "97  Resort Hotel            0         63               2015   \n",
              "98  Resort Hotel            0        101               2015   \n",
              "99  Resort Hotel            0        102               2015   \n",
              "\n",
              "   arrival_date_month  arrival_date_week_number  arrival_date_day_of_month  \\\n",
              "0                July                        27                          1   \n",
              "1                July                        27                          1   \n",
              "2                July                        27                          1   \n",
              "3                July                        27                          1   \n",
              "4                July                        27                          1   \n",
              "..                ...                       ...                        ...   \n",
              "95               July                        27                          3   \n",
              "96               July                        27                          3   \n",
              "97               July                        27                          3   \n",
              "98               July                        27                          3   \n",
              "99               July                        27                          3   \n",
              "\n",
              "    stays_in_weekend_nights  stays_in_week_nights  adults  ...  deposit_type  \\\n",
              "0                         0                     0       2  ...    No Deposit   \n",
              "1                         0                     0       2  ...    No Deposit   \n",
              "2                         0                     1       1  ...    No Deposit   \n",
              "3                         0                     1       1  ...    No Deposit   \n",
              "4                         0                     2       2  ...    No Deposit   \n",
              "..                      ...                   ...     ...  ...           ...   \n",
              "95                        0                     2       2  ...    No Deposit   \n",
              "96                        2                     5       2  ...    No Deposit   \n",
              "97                        2                     5       3  ...    No Deposit   \n",
              "98                        2                     5       2  ...    No Deposit   \n",
              "99                        2                     5       2  ...    No Deposit   \n",
              "\n",
              "    agent company days_in_waiting_list customer_type     adr  \\\n",
              "0     NaN     NaN                    0     Transient    0.00   \n",
              "1     NaN     NaN                    0     Transient    0.00   \n",
              "2     NaN     NaN                    0     Transient   75.00   \n",
              "3   304.0     NaN                    0     Transient   75.00   \n",
              "4   240.0     NaN                    0     Transient   98.00   \n",
              "..    ...     ...                  ...           ...     ...   \n",
              "95  240.0     NaN                    0     Transient   73.80   \n",
              "96  242.0     NaN                    0     Transient  117.00   \n",
              "97  105.0     NaN                    0     Transient  196.54   \n",
              "98  240.0     NaN                    0     Transient   99.30   \n",
              "99  250.0     NaN                    0     Transient   90.95   \n",
              "\n",
              "    required_car_parking_spaces  total_of_special_requests  \\\n",
              "0                             0                          0   \n",
              "1                             0                          0   \n",
              "2                             0                          0   \n",
              "3                             0                          0   \n",
              "4                             0                          1   \n",
              "..                          ...                        ...   \n",
              "95                            0                          1   \n",
              "96                            0                          1   \n",
              "97                            0                          1   \n",
              "98                            1                          2   \n",
              "99                            0                          0   \n",
              "\n",
              "    reservation_status reservation_status_date  \n",
              "0            Check-Out              2015-07-01  \n",
              "1            Check-Out              2015-07-01  \n",
              "2            Check-Out              2015-07-02  \n",
              "3            Check-Out              2015-07-02  \n",
              "4            Check-Out              2015-07-03  \n",
              "..                 ...                     ...  \n",
              "95            Canceled              2015-06-29  \n",
              "96            Canceled              2015-05-13  \n",
              "97           Check-Out              2015-07-10  \n",
              "98           Check-Out              2015-07-10  \n",
              "99           Check-Out              2015-07-10  \n",
              "\n",
              "[100 rows x 32 columns]"
            ],
            "text/html": [
              "\n",
              "  <div id=\"df-d5173f96-974d-4cc2-8ec8-7146dc48e1dd\">\n",
              "    <div class=\"colab-df-container\">\n",
              "      <div>\n",
              "<style scoped>\n",
              "    .dataframe tbody tr th:only-of-type {\n",
              "        vertical-align: middle;\n",
              "    }\n",
              "\n",
              "    .dataframe tbody tr th {\n",
              "        vertical-align: top;\n",
              "    }\n",
              "\n",
              "    .dataframe thead th {\n",
              "        text-align: right;\n",
              "    }\n",
              "</style>\n",
              "<table border=\"1\" class=\"dataframe\">\n",
              "  <thead>\n",
              "    <tr style=\"text-align: right;\">\n",
              "      <th></th>\n",
              "      <th>hotel</th>\n",
              "      <th>is_canceled</th>\n",
              "      <th>lead_time</th>\n",
              "      <th>arrival_date_year</th>\n",
              "      <th>arrival_date_month</th>\n",
              "      <th>arrival_date_week_number</th>\n",
              "      <th>arrival_date_day_of_month</th>\n",
              "      <th>stays_in_weekend_nights</th>\n",
              "      <th>stays_in_week_nights</th>\n",
              "      <th>adults</th>\n",
              "      <th>...</th>\n",
              "      <th>deposit_type</th>\n",
              "      <th>agent</th>\n",
              "      <th>company</th>\n",
              "      <th>days_in_waiting_list</th>\n",
              "      <th>customer_type</th>\n",
              "      <th>adr</th>\n",
              "      <th>required_car_parking_spaces</th>\n",
              "      <th>total_of_special_requests</th>\n",
              "      <th>reservation_status</th>\n",
              "      <th>reservation_status_date</th>\n",
              "    </tr>\n",
              "  </thead>\n",
              "  <tbody>\n",
              "    <tr>\n",
              "      <th>0</th>\n",
              "      <td>Resort Hotel</td>\n",
              "      <td>0</td>\n",
              "      <td>342</td>\n",
              "      <td>2015</td>\n",
              "      <td>July</td>\n",
              "      <td>27</td>\n",
              "      <td>1</td>\n",
              "      <td>0</td>\n",
              "      <td>0</td>\n",
              "      <td>2</td>\n",
              "      <td>...</td>\n",
              "      <td>No Deposit</td>\n",
              "      <td>NaN</td>\n",
              "      <td>NaN</td>\n",
              "      <td>0</td>\n",
              "      <td>Transient</td>\n",
              "      <td>0.00</td>\n",
              "      <td>0</td>\n",
              "      <td>0</td>\n",
              "      <td>Check-Out</td>\n",
              "      <td>2015-07-01</td>\n",
              "    </tr>\n",
              "    <tr>\n",
              "      <th>1</th>\n",
              "      <td>Resort Hotel</td>\n",
              "      <td>0</td>\n",
              "      <td>737</td>\n",
              "      <td>2015</td>\n",
              "      <td>July</td>\n",
              "      <td>27</td>\n",
              "      <td>1</td>\n",
              "      <td>0</td>\n",
              "      <td>0</td>\n",
              "      <td>2</td>\n",
              "      <td>...</td>\n",
              "      <td>No Deposit</td>\n",
              "      <td>NaN</td>\n",
              "      <td>NaN</td>\n",
              "      <td>0</td>\n",
              "      <td>Transient</td>\n",
              "      <td>0.00</td>\n",
              "      <td>0</td>\n",
              "      <td>0</td>\n",
              "      <td>Check-Out</td>\n",
              "      <td>2015-07-01</td>\n",
              "    </tr>\n",
              "    <tr>\n",
              "      <th>2</th>\n",
              "      <td>Resort Hotel</td>\n",
              "      <td>0</td>\n",
              "      <td>7</td>\n",
              "      <td>2015</td>\n",
              "      <td>July</td>\n",
              "      <td>27</td>\n",
              "      <td>1</td>\n",
              "      <td>0</td>\n",
              "      <td>1</td>\n",
              "      <td>1</td>\n",
              "      <td>...</td>\n",
              "      <td>No Deposit</td>\n",
              "      <td>NaN</td>\n",
              "      <td>NaN</td>\n",
              "      <td>0</td>\n",
              "      <td>Transient</td>\n",
              "      <td>75.00</td>\n",
              "      <td>0</td>\n",
              "      <td>0</td>\n",
              "      <td>Check-Out</td>\n",
              "      <td>2015-07-02</td>\n",
              "    </tr>\n",
              "    <tr>\n",
              "      <th>3</th>\n",
              "      <td>Resort Hotel</td>\n",
              "      <td>0</td>\n",
              "      <td>13</td>\n",
              "      <td>2015</td>\n",
              "      <td>July</td>\n",
              "      <td>27</td>\n",
              "      <td>1</td>\n",
              "      <td>0</td>\n",
              "      <td>1</td>\n",
              "      <td>1</td>\n",
              "      <td>...</td>\n",
              "      <td>No Deposit</td>\n",
              "      <td>304.0</td>\n",
              "      <td>NaN</td>\n",
              "      <td>0</td>\n",
              "      <td>Transient</td>\n",
              "      <td>75.00</td>\n",
              "      <td>0</td>\n",
              "      <td>0</td>\n",
              "      <td>Check-Out</td>\n",
              "      <td>2015-07-02</td>\n",
              "    </tr>\n",
              "    <tr>\n",
              "      <th>4</th>\n",
              "      <td>Resort Hotel</td>\n",
              "      <td>0</td>\n",
              "      <td>14</td>\n",
              "      <td>2015</td>\n",
              "      <td>July</td>\n",
              "      <td>27</td>\n",
              "      <td>1</td>\n",
              "      <td>0</td>\n",
              "      <td>2</td>\n",
              "      <td>2</td>\n",
              "      <td>...</td>\n",
              "      <td>No Deposit</td>\n",
              "      <td>240.0</td>\n",
              "      <td>NaN</td>\n",
              "      <td>0</td>\n",
              "      <td>Transient</td>\n",
              "      <td>98.00</td>\n",
              "      <td>0</td>\n",
              "      <td>1</td>\n",
              "      <td>Check-Out</td>\n",
              "      <td>2015-07-03</td>\n",
              "    </tr>\n",
              "    <tr>\n",
              "      <th>...</th>\n",
              "      <td>...</td>\n",
              "      <td>...</td>\n",
              "      <td>...</td>\n",
              "      <td>...</td>\n",
              "      <td>...</td>\n",
              "      <td>...</td>\n",
              "      <td>...</td>\n",
              "      <td>...</td>\n",
              "      <td>...</td>\n",
              "      <td>...</td>\n",
              "      <td>...</td>\n",
              "      <td>...</td>\n",
              "      <td>...</td>\n",
              "      <td>...</td>\n",
              "      <td>...</td>\n",
              "      <td>...</td>\n",
              "      <td>...</td>\n",
              "      <td>...</td>\n",
              "      <td>...</td>\n",
              "      <td>...</td>\n",
              "      <td>...</td>\n",
              "    </tr>\n",
              "    <tr>\n",
              "      <th>95</th>\n",
              "      <td>Resort Hotel</td>\n",
              "      <td>1</td>\n",
              "      <td>72</td>\n",
              "      <td>2015</td>\n",
              "      <td>July</td>\n",
              "      <td>27</td>\n",
              "      <td>3</td>\n",
              "      <td>0</td>\n",
              "      <td>2</td>\n",
              "      <td>2</td>\n",
              "      <td>...</td>\n",
              "      <td>No Deposit</td>\n",
              "      <td>240.0</td>\n",
              "      <td>NaN</td>\n",
              "      <td>0</td>\n",
              "      <td>Transient</td>\n",
              "      <td>73.80</td>\n",
              "      <td>0</td>\n",
              "      <td>1</td>\n",
              "      <td>Canceled</td>\n",
              "      <td>2015-06-29</td>\n",
              "    </tr>\n",
              "    <tr>\n",
              "      <th>96</th>\n",
              "      <td>Resort Hotel</td>\n",
              "      <td>1</td>\n",
              "      <td>63</td>\n",
              "      <td>2015</td>\n",
              "      <td>July</td>\n",
              "      <td>27</td>\n",
              "      <td>3</td>\n",
              "      <td>2</td>\n",
              "      <td>5</td>\n",
              "      <td>2</td>\n",
              "      <td>...</td>\n",
              "      <td>No Deposit</td>\n",
              "      <td>242.0</td>\n",
              "      <td>NaN</td>\n",
              "      <td>0</td>\n",
              "      <td>Transient</td>\n",
              "      <td>117.00</td>\n",
              "      <td>0</td>\n",
              "      <td>1</td>\n",
              "      <td>Canceled</td>\n",
              "      <td>2015-05-13</td>\n",
              "    </tr>\n",
              "    <tr>\n",
              "      <th>97</th>\n",
              "      <td>Resort Hotel</td>\n",
              "      <td>0</td>\n",
              "      <td>63</td>\n",
              "      <td>2015</td>\n",
              "      <td>July</td>\n",
              "      <td>27</td>\n",
              "      <td>3</td>\n",
              "      <td>2</td>\n",
              "      <td>5</td>\n",
              "      <td>3</td>\n",
              "      <td>...</td>\n",
              "      <td>No Deposit</td>\n",
              "      <td>105.0</td>\n",
              "      <td>NaN</td>\n",
              "      <td>0</td>\n",
              "      <td>Transient</td>\n",
              "      <td>196.54</td>\n",
              "      <td>0</td>\n",
              "      <td>1</td>\n",
              "      <td>Check-Out</td>\n",
              "      <td>2015-07-10</td>\n",
              "    </tr>\n",
              "    <tr>\n",
              "      <th>98</th>\n",
              "      <td>Resort Hotel</td>\n",
              "      <td>0</td>\n",
              "      <td>101</td>\n",
              "      <td>2015</td>\n",
              "      <td>July</td>\n",
              "      <td>27</td>\n",
              "      <td>3</td>\n",
              "      <td>2</td>\n",
              "      <td>5</td>\n",
              "      <td>2</td>\n",
              "      <td>...</td>\n",
              "      <td>No Deposit</td>\n",
              "      <td>240.0</td>\n",
              "      <td>NaN</td>\n",
              "      <td>0</td>\n",
              "      <td>Transient</td>\n",
              "      <td>99.30</td>\n",
              "      <td>1</td>\n",
              "      <td>2</td>\n",
              "      <td>Check-Out</td>\n",
              "      <td>2015-07-10</td>\n",
              "    </tr>\n",
              "    <tr>\n",
              "      <th>99</th>\n",
              "      <td>Resort Hotel</td>\n",
              "      <td>0</td>\n",
              "      <td>102</td>\n",
              "      <td>2015</td>\n",
              "      <td>July</td>\n",
              "      <td>27</td>\n",
              "      <td>3</td>\n",
              "      <td>2</td>\n",
              "      <td>5</td>\n",
              "      <td>2</td>\n",
              "      <td>...</td>\n",
              "      <td>No Deposit</td>\n",
              "      <td>250.0</td>\n",
              "      <td>NaN</td>\n",
              "      <td>0</td>\n",
              "      <td>Transient</td>\n",
              "      <td>90.95</td>\n",
              "      <td>0</td>\n",
              "      <td>0</td>\n",
              "      <td>Check-Out</td>\n",
              "      <td>2015-07-10</td>\n",
              "    </tr>\n",
              "  </tbody>\n",
              "</table>\n",
              "<p>100 rows × 32 columns</p>\n",
              "</div>\n",
              "      <button class=\"colab-df-convert\" onclick=\"convertToInteractive('df-d5173f96-974d-4cc2-8ec8-7146dc48e1dd')\"\n",
              "              title=\"Convert this dataframe to an interactive table.\"\n",
              "              style=\"display:none;\">\n",
              "        \n",
              "  <svg xmlns=\"http://www.w3.org/2000/svg\" height=\"24px\"viewBox=\"0 0 24 24\"\n",
              "       width=\"24px\">\n",
              "    <path d=\"M0 0h24v24H0V0z\" fill=\"none\"/>\n",
              "    <path d=\"M18.56 5.44l.94 2.06.94-2.06 2.06-.94-2.06-.94-.94-2.06-.94 2.06-2.06.94zm-11 1L8.5 8.5l.94-2.06 2.06-.94-2.06-.94L8.5 2.5l-.94 2.06-2.06.94zm10 10l.94 2.06.94-2.06 2.06-.94-2.06-.94-.94-2.06-.94 2.06-2.06.94z\"/><path d=\"M17.41 7.96l-1.37-1.37c-.4-.4-.92-.59-1.43-.59-.52 0-1.04.2-1.43.59L10.3 9.45l-7.72 7.72c-.78.78-.78 2.05 0 2.83L4 21.41c.39.39.9.59 1.41.59.51 0 1.02-.2 1.41-.59l7.78-7.78 2.81-2.81c.8-.78.8-2.07 0-2.86zM5.41 20L4 18.59l7.72-7.72 1.47 1.35L5.41 20z\"/>\n",
              "  </svg>\n",
              "      </button>\n",
              "      \n",
              "  <style>\n",
              "    .colab-df-container {\n",
              "      display:flex;\n",
              "      flex-wrap:wrap;\n",
              "      gap: 12px;\n",
              "    }\n",
              "\n",
              "    .colab-df-convert {\n",
              "      background-color: #E8F0FE;\n",
              "      border: none;\n",
              "      border-radius: 50%;\n",
              "      cursor: pointer;\n",
              "      display: none;\n",
              "      fill: #1967D2;\n",
              "      height: 32px;\n",
              "      padding: 0 0 0 0;\n",
              "      width: 32px;\n",
              "    }\n",
              "\n",
              "    .colab-df-convert:hover {\n",
              "      background-color: #E2EBFA;\n",
              "      box-shadow: 0px 1px 2px rgba(60, 64, 67, 0.3), 0px 1px 3px 1px rgba(60, 64, 67, 0.15);\n",
              "      fill: #174EA6;\n",
              "    }\n",
              "\n",
              "    [theme=dark] .colab-df-convert {\n",
              "      background-color: #3B4455;\n",
              "      fill: #D2E3FC;\n",
              "    }\n",
              "\n",
              "    [theme=dark] .colab-df-convert:hover {\n",
              "      background-color: #434B5C;\n",
              "      box-shadow: 0px 1px 3px 1px rgba(0, 0, 0, 0.15);\n",
              "      filter: drop-shadow(0px 1px 2px rgba(0, 0, 0, 0.3));\n",
              "      fill: #FFFFFF;\n",
              "    }\n",
              "  </style>\n",
              "\n",
              "      <script>\n",
              "        const buttonEl =\n",
              "          document.querySelector('#df-d5173f96-974d-4cc2-8ec8-7146dc48e1dd button.colab-df-convert');\n",
              "        buttonEl.style.display =\n",
              "          google.colab.kernel.accessAllowed ? 'block' : 'none';\n",
              "\n",
              "        async function convertToInteractive(key) {\n",
              "          const element = document.querySelector('#df-d5173f96-974d-4cc2-8ec8-7146dc48e1dd');\n",
              "          const dataTable =\n",
              "            await google.colab.kernel.invokeFunction('convertToInteractive',\n",
              "                                                     [key], {});\n",
              "          if (!dataTable) return;\n",
              "\n",
              "          const docLinkHtml = 'Like what you see? Visit the ' +\n",
              "            '<a target=\"_blank\" href=https://colab.research.google.com/notebooks/data_table.ipynb>data table notebook</a>'\n",
              "            + ' to learn more about interactive tables.';\n",
              "          element.innerHTML = '';\n",
              "          dataTable['output_type'] = 'display_data';\n",
              "          await google.colab.output.renderOutput(dataTable, element);\n",
              "          const docLink = document.createElement('div');\n",
              "          docLink.innerHTML = docLinkHtml;\n",
              "          element.appendChild(docLink);\n",
              "        }\n",
              "      </script>\n",
              "    </div>\n",
              "  </div>\n",
              "  "
            ]
          },
          "metadata": {},
          "execution_count": 3
        }
      ]
    },
    {
      "cell_type": "code",
      "source": [
        "df.tail(100)"
      ],
      "metadata": {
        "id": "ns6hIerMaIz2",
        "colab": {
          "base_uri": "https://localhost:8080/",
          "height": 661
        },
        "outputId": "06021afc-e743-4746-bfc8-a63f5285459c"
      },
      "execution_count": 4,
      "outputs": [
        {
          "output_type": "execute_result",
          "data": {
            "text/plain": [
              "             hotel  is_canceled  lead_time  arrival_date_year  \\\n",
              "119290  City Hotel            0        218               2017   \n",
              "119291  City Hotel            0        218               2017   \n",
              "119292  City Hotel            0         75               2017   \n",
              "119293  City Hotel            0        243               2017   \n",
              "119294  City Hotel            0        243               2017   \n",
              "...            ...          ...        ...                ...   \n",
              "119385  City Hotel            0         23               2017   \n",
              "119386  City Hotel            0        102               2017   \n",
              "119387  City Hotel            0         34               2017   \n",
              "119388  City Hotel            0        109               2017   \n",
              "119389  City Hotel            0        205               2017   \n",
              "\n",
              "       arrival_date_month  arrival_date_week_number  \\\n",
              "119290             August                        34   \n",
              "119291             August                        34   \n",
              "119292             August                        34   \n",
              "119293             August                        35   \n",
              "119294             August                        35   \n",
              "...                   ...                       ...   \n",
              "119385             August                        35   \n",
              "119386             August                        35   \n",
              "119387             August                        35   \n",
              "119388             August                        35   \n",
              "119389             August                        35   \n",
              "\n",
              "        arrival_date_day_of_month  stays_in_weekend_nights  \\\n",
              "119290                         26                        2   \n",
              "119291                         26                        2   \n",
              "119292                         23                        2   \n",
              "119293                         30                        0   \n",
              "119294                         30                        0   \n",
              "...                           ...                      ...   \n",
              "119385                         30                        2   \n",
              "119386                         31                        2   \n",
              "119387                         31                        2   \n",
              "119388                         31                        2   \n",
              "119389                         29                        2   \n",
              "\n",
              "        stays_in_week_nights  adults  ...  deposit_type  agent company  \\\n",
              "119290                     5       2  ...    No Deposit    7.0     NaN   \n",
              "119291                     5       1  ...    No Deposit    7.0     NaN   \n",
              "119292                     8       2  ...    No Deposit  394.0     NaN   \n",
              "119293                     3       2  ...    No Deposit    9.0     NaN   \n",
              "119294                     3       2  ...    No Deposit    9.0     NaN   \n",
              "...                      ...     ...  ...           ...    ...     ...   \n",
              "119385                     5       2  ...    No Deposit  394.0     NaN   \n",
              "119386                     5       3  ...    No Deposit    9.0     NaN   \n",
              "119387                     5       2  ...    No Deposit    9.0     NaN   \n",
              "119388                     5       2  ...    No Deposit   89.0     NaN   \n",
              "119389                     7       2  ...    No Deposit    9.0     NaN   \n",
              "\n",
              "       days_in_waiting_list customer_type     adr  \\\n",
              "119290                    0     Transient  111.92   \n",
              "119291                    0     Transient  105.34   \n",
              "119292                    0     Transient   81.00   \n",
              "119293                    0     Transient  189.00   \n",
              "119294                    0     Transient  117.00   \n",
              "...                     ...           ...     ...   \n",
              "119385                    0     Transient   96.14   \n",
              "119386                    0     Transient  225.43   \n",
              "119387                    0     Transient  157.71   \n",
              "119388                    0     Transient  104.40   \n",
              "119389                    0     Transient  151.20   \n",
              "\n",
              "        required_car_parking_spaces  total_of_special_requests  \\\n",
              "119290                            0                          4   \n",
              "119291                            0                          4   \n",
              "119292                            0                          0   \n",
              "119293                            0                          3   \n",
              "119294                            0                          1   \n",
              "...                             ...                        ...   \n",
              "119385                            0                          0   \n",
              "119386                            0                          2   \n",
              "119387                            0                          4   \n",
              "119388                            0                          0   \n",
              "119389                            0                          2   \n",
              "\n",
              "        reservation_status reservation_status_date  \n",
              "119290           Check-Out              2017-09-02  \n",
              "119291           Check-Out              2017-09-02  \n",
              "119292           Check-Out              2017-09-02  \n",
              "119293           Check-Out              2017-09-02  \n",
              "119294           Check-Out              2017-09-02  \n",
              "...                    ...                     ...  \n",
              "119385           Check-Out              2017-09-06  \n",
              "119386           Check-Out              2017-09-07  \n",
              "119387           Check-Out              2017-09-07  \n",
              "119388           Check-Out              2017-09-07  \n",
              "119389           Check-Out              2017-09-07  \n",
              "\n",
              "[100 rows x 32 columns]"
            ],
            "text/html": [
              "\n",
              "  <div id=\"df-cd2a23f5-c31e-4163-9d49-60543648b5ed\">\n",
              "    <div class=\"colab-df-container\">\n",
              "      <div>\n",
              "<style scoped>\n",
              "    .dataframe tbody tr th:only-of-type {\n",
              "        vertical-align: middle;\n",
              "    }\n",
              "\n",
              "    .dataframe tbody tr th {\n",
              "        vertical-align: top;\n",
              "    }\n",
              "\n",
              "    .dataframe thead th {\n",
              "        text-align: right;\n",
              "    }\n",
              "</style>\n",
              "<table border=\"1\" class=\"dataframe\">\n",
              "  <thead>\n",
              "    <tr style=\"text-align: right;\">\n",
              "      <th></th>\n",
              "      <th>hotel</th>\n",
              "      <th>is_canceled</th>\n",
              "      <th>lead_time</th>\n",
              "      <th>arrival_date_year</th>\n",
              "      <th>arrival_date_month</th>\n",
              "      <th>arrival_date_week_number</th>\n",
              "      <th>arrival_date_day_of_month</th>\n",
              "      <th>stays_in_weekend_nights</th>\n",
              "      <th>stays_in_week_nights</th>\n",
              "      <th>adults</th>\n",
              "      <th>...</th>\n",
              "      <th>deposit_type</th>\n",
              "      <th>agent</th>\n",
              "      <th>company</th>\n",
              "      <th>days_in_waiting_list</th>\n",
              "      <th>customer_type</th>\n",
              "      <th>adr</th>\n",
              "      <th>required_car_parking_spaces</th>\n",
              "      <th>total_of_special_requests</th>\n",
              "      <th>reservation_status</th>\n",
              "      <th>reservation_status_date</th>\n",
              "    </tr>\n",
              "  </thead>\n",
              "  <tbody>\n",
              "    <tr>\n",
              "      <th>119290</th>\n",
              "      <td>City Hotel</td>\n",
              "      <td>0</td>\n",
              "      <td>218</td>\n",
              "      <td>2017</td>\n",
              "      <td>August</td>\n",
              "      <td>34</td>\n",
              "      <td>26</td>\n",
              "      <td>2</td>\n",
              "      <td>5</td>\n",
              "      <td>2</td>\n",
              "      <td>...</td>\n",
              "      <td>No Deposit</td>\n",
              "      <td>7.0</td>\n",
              "      <td>NaN</td>\n",
              "      <td>0</td>\n",
              "      <td>Transient</td>\n",
              "      <td>111.92</td>\n",
              "      <td>0</td>\n",
              "      <td>4</td>\n",
              "      <td>Check-Out</td>\n",
              "      <td>2017-09-02</td>\n",
              "    </tr>\n",
              "    <tr>\n",
              "      <th>119291</th>\n",
              "      <td>City Hotel</td>\n",
              "      <td>0</td>\n",
              "      <td>218</td>\n",
              "      <td>2017</td>\n",
              "      <td>August</td>\n",
              "      <td>34</td>\n",
              "      <td>26</td>\n",
              "      <td>2</td>\n",
              "      <td>5</td>\n",
              "      <td>1</td>\n",
              "      <td>...</td>\n",
              "      <td>No Deposit</td>\n",
              "      <td>7.0</td>\n",
              "      <td>NaN</td>\n",
              "      <td>0</td>\n",
              "      <td>Transient</td>\n",
              "      <td>105.34</td>\n",
              "      <td>0</td>\n",
              "      <td>4</td>\n",
              "      <td>Check-Out</td>\n",
              "      <td>2017-09-02</td>\n",
              "    </tr>\n",
              "    <tr>\n",
              "      <th>119292</th>\n",
              "      <td>City Hotel</td>\n",
              "      <td>0</td>\n",
              "      <td>75</td>\n",
              "      <td>2017</td>\n",
              "      <td>August</td>\n",
              "      <td>34</td>\n",
              "      <td>23</td>\n",
              "      <td>2</td>\n",
              "      <td>8</td>\n",
              "      <td>2</td>\n",
              "      <td>...</td>\n",
              "      <td>No Deposit</td>\n",
              "      <td>394.0</td>\n",
              "      <td>NaN</td>\n",
              "      <td>0</td>\n",
              "      <td>Transient</td>\n",
              "      <td>81.00</td>\n",
              "      <td>0</td>\n",
              "      <td>0</td>\n",
              "      <td>Check-Out</td>\n",
              "      <td>2017-09-02</td>\n",
              "    </tr>\n",
              "    <tr>\n",
              "      <th>119293</th>\n",
              "      <td>City Hotel</td>\n",
              "      <td>0</td>\n",
              "      <td>243</td>\n",
              "      <td>2017</td>\n",
              "      <td>August</td>\n",
              "      <td>35</td>\n",
              "      <td>30</td>\n",
              "      <td>0</td>\n",
              "      <td>3</td>\n",
              "      <td>2</td>\n",
              "      <td>...</td>\n",
              "      <td>No Deposit</td>\n",
              "      <td>9.0</td>\n",
              "      <td>NaN</td>\n",
              "      <td>0</td>\n",
              "      <td>Transient</td>\n",
              "      <td>189.00</td>\n",
              "      <td>0</td>\n",
              "      <td>3</td>\n",
              "      <td>Check-Out</td>\n",
              "      <td>2017-09-02</td>\n",
              "    </tr>\n",
              "    <tr>\n",
              "      <th>119294</th>\n",
              "      <td>City Hotel</td>\n",
              "      <td>0</td>\n",
              "      <td>243</td>\n",
              "      <td>2017</td>\n",
              "      <td>August</td>\n",
              "      <td>35</td>\n",
              "      <td>30</td>\n",
              "      <td>0</td>\n",
              "      <td>3</td>\n",
              "      <td>2</td>\n",
              "      <td>...</td>\n",
              "      <td>No Deposit</td>\n",
              "      <td>9.0</td>\n",
              "      <td>NaN</td>\n",
              "      <td>0</td>\n",
              "      <td>Transient</td>\n",
              "      <td>117.00</td>\n",
              "      <td>0</td>\n",
              "      <td>1</td>\n",
              "      <td>Check-Out</td>\n",
              "      <td>2017-09-02</td>\n",
              "    </tr>\n",
              "    <tr>\n",
              "      <th>...</th>\n",
              "      <td>...</td>\n",
              "      <td>...</td>\n",
              "      <td>...</td>\n",
              "      <td>...</td>\n",
              "      <td>...</td>\n",
              "      <td>...</td>\n",
              "      <td>...</td>\n",
              "      <td>...</td>\n",
              "      <td>...</td>\n",
              "      <td>...</td>\n",
              "      <td>...</td>\n",
              "      <td>...</td>\n",
              "      <td>...</td>\n",
              "      <td>...</td>\n",
              "      <td>...</td>\n",
              "      <td>...</td>\n",
              "      <td>...</td>\n",
              "      <td>...</td>\n",
              "      <td>...</td>\n",
              "      <td>...</td>\n",
              "      <td>...</td>\n",
              "    </tr>\n",
              "    <tr>\n",
              "      <th>119385</th>\n",
              "      <td>City Hotel</td>\n",
              "      <td>0</td>\n",
              "      <td>23</td>\n",
              "      <td>2017</td>\n",
              "      <td>August</td>\n",
              "      <td>35</td>\n",
              "      <td>30</td>\n",
              "      <td>2</td>\n",
              "      <td>5</td>\n",
              "      <td>2</td>\n",
              "      <td>...</td>\n",
              "      <td>No Deposit</td>\n",
              "      <td>394.0</td>\n",
              "      <td>NaN</td>\n",
              "      <td>0</td>\n",
              "      <td>Transient</td>\n",
              "      <td>96.14</td>\n",
              "      <td>0</td>\n",
              "      <td>0</td>\n",
              "      <td>Check-Out</td>\n",
              "      <td>2017-09-06</td>\n",
              "    </tr>\n",
              "    <tr>\n",
              "      <th>119386</th>\n",
              "      <td>City Hotel</td>\n",
              "      <td>0</td>\n",
              "      <td>102</td>\n",
              "      <td>2017</td>\n",
              "      <td>August</td>\n",
              "      <td>35</td>\n",
              "      <td>31</td>\n",
              "      <td>2</td>\n",
              "      <td>5</td>\n",
              "      <td>3</td>\n",
              "      <td>...</td>\n",
              "      <td>No Deposit</td>\n",
              "      <td>9.0</td>\n",
              "      <td>NaN</td>\n",
              "      <td>0</td>\n",
              "      <td>Transient</td>\n",
              "      <td>225.43</td>\n",
              "      <td>0</td>\n",
              "      <td>2</td>\n",
              "      <td>Check-Out</td>\n",
              "      <td>2017-09-07</td>\n",
              "    </tr>\n",
              "    <tr>\n",
              "      <th>119387</th>\n",
              "      <td>City Hotel</td>\n",
              "      <td>0</td>\n",
              "      <td>34</td>\n",
              "      <td>2017</td>\n",
              "      <td>August</td>\n",
              "      <td>35</td>\n",
              "      <td>31</td>\n",
              "      <td>2</td>\n",
              "      <td>5</td>\n",
              "      <td>2</td>\n",
              "      <td>...</td>\n",
              "      <td>No Deposit</td>\n",
              "      <td>9.0</td>\n",
              "      <td>NaN</td>\n",
              "      <td>0</td>\n",
              "      <td>Transient</td>\n",
              "      <td>157.71</td>\n",
              "      <td>0</td>\n",
              "      <td>4</td>\n",
              "      <td>Check-Out</td>\n",
              "      <td>2017-09-07</td>\n",
              "    </tr>\n",
              "    <tr>\n",
              "      <th>119388</th>\n",
              "      <td>City Hotel</td>\n",
              "      <td>0</td>\n",
              "      <td>109</td>\n",
              "      <td>2017</td>\n",
              "      <td>August</td>\n",
              "      <td>35</td>\n",
              "      <td>31</td>\n",
              "      <td>2</td>\n",
              "      <td>5</td>\n",
              "      <td>2</td>\n",
              "      <td>...</td>\n",
              "      <td>No Deposit</td>\n",
              "      <td>89.0</td>\n",
              "      <td>NaN</td>\n",
              "      <td>0</td>\n",
              "      <td>Transient</td>\n",
              "      <td>104.40</td>\n",
              "      <td>0</td>\n",
              "      <td>0</td>\n",
              "      <td>Check-Out</td>\n",
              "      <td>2017-09-07</td>\n",
              "    </tr>\n",
              "    <tr>\n",
              "      <th>119389</th>\n",
              "      <td>City Hotel</td>\n",
              "      <td>0</td>\n",
              "      <td>205</td>\n",
              "      <td>2017</td>\n",
              "      <td>August</td>\n",
              "      <td>35</td>\n",
              "      <td>29</td>\n",
              "      <td>2</td>\n",
              "      <td>7</td>\n",
              "      <td>2</td>\n",
              "      <td>...</td>\n",
              "      <td>No Deposit</td>\n",
              "      <td>9.0</td>\n",
              "      <td>NaN</td>\n",
              "      <td>0</td>\n",
              "      <td>Transient</td>\n",
              "      <td>151.20</td>\n",
              "      <td>0</td>\n",
              "      <td>2</td>\n",
              "      <td>Check-Out</td>\n",
              "      <td>2017-09-07</td>\n",
              "    </tr>\n",
              "  </tbody>\n",
              "</table>\n",
              "<p>100 rows × 32 columns</p>\n",
              "</div>\n",
              "      <button class=\"colab-df-convert\" onclick=\"convertToInteractive('df-cd2a23f5-c31e-4163-9d49-60543648b5ed')\"\n",
              "              title=\"Convert this dataframe to an interactive table.\"\n",
              "              style=\"display:none;\">\n",
              "        \n",
              "  <svg xmlns=\"http://www.w3.org/2000/svg\" height=\"24px\"viewBox=\"0 0 24 24\"\n",
              "       width=\"24px\">\n",
              "    <path d=\"M0 0h24v24H0V0z\" fill=\"none\"/>\n",
              "    <path d=\"M18.56 5.44l.94 2.06.94-2.06 2.06-.94-2.06-.94-.94-2.06-.94 2.06-2.06.94zm-11 1L8.5 8.5l.94-2.06 2.06-.94-2.06-.94L8.5 2.5l-.94 2.06-2.06.94zm10 10l.94 2.06.94-2.06 2.06-.94-2.06-.94-.94-2.06-.94 2.06-2.06.94z\"/><path d=\"M17.41 7.96l-1.37-1.37c-.4-.4-.92-.59-1.43-.59-.52 0-1.04.2-1.43.59L10.3 9.45l-7.72 7.72c-.78.78-.78 2.05 0 2.83L4 21.41c.39.39.9.59 1.41.59.51 0 1.02-.2 1.41-.59l7.78-7.78 2.81-2.81c.8-.78.8-2.07 0-2.86zM5.41 20L4 18.59l7.72-7.72 1.47 1.35L5.41 20z\"/>\n",
              "  </svg>\n",
              "      </button>\n",
              "      \n",
              "  <style>\n",
              "    .colab-df-container {\n",
              "      display:flex;\n",
              "      flex-wrap:wrap;\n",
              "      gap: 12px;\n",
              "    }\n",
              "\n",
              "    .colab-df-convert {\n",
              "      background-color: #E8F0FE;\n",
              "      border: none;\n",
              "      border-radius: 50%;\n",
              "      cursor: pointer;\n",
              "      display: none;\n",
              "      fill: #1967D2;\n",
              "      height: 32px;\n",
              "      padding: 0 0 0 0;\n",
              "      width: 32px;\n",
              "    }\n",
              "\n",
              "    .colab-df-convert:hover {\n",
              "      background-color: #E2EBFA;\n",
              "      box-shadow: 0px 1px 2px rgba(60, 64, 67, 0.3), 0px 1px 3px 1px rgba(60, 64, 67, 0.15);\n",
              "      fill: #174EA6;\n",
              "    }\n",
              "\n",
              "    [theme=dark] .colab-df-convert {\n",
              "      background-color: #3B4455;\n",
              "      fill: #D2E3FC;\n",
              "    }\n",
              "\n",
              "    [theme=dark] .colab-df-convert:hover {\n",
              "      background-color: #434B5C;\n",
              "      box-shadow: 0px 1px 3px 1px rgba(0, 0, 0, 0.15);\n",
              "      filter: drop-shadow(0px 1px 2px rgba(0, 0, 0, 0.3));\n",
              "      fill: #FFFFFF;\n",
              "    }\n",
              "  </style>\n",
              "\n",
              "      <script>\n",
              "        const buttonEl =\n",
              "          document.querySelector('#df-cd2a23f5-c31e-4163-9d49-60543648b5ed button.colab-df-convert');\n",
              "        buttonEl.style.display =\n",
              "          google.colab.kernel.accessAllowed ? 'block' : 'none';\n",
              "\n",
              "        async function convertToInteractive(key) {\n",
              "          const element = document.querySelector('#df-cd2a23f5-c31e-4163-9d49-60543648b5ed');\n",
              "          const dataTable =\n",
              "            await google.colab.kernel.invokeFunction('convertToInteractive',\n",
              "                                                     [key], {});\n",
              "          if (!dataTable) return;\n",
              "\n",
              "          const docLinkHtml = 'Like what you see? Visit the ' +\n",
              "            '<a target=\"_blank\" href=https://colab.research.google.com/notebooks/data_table.ipynb>data table notebook</a>'\n",
              "            + ' to learn more about interactive tables.';\n",
              "          element.innerHTML = '';\n",
              "          dataTable['output_type'] = 'display_data';\n",
              "          await google.colab.output.renderOutput(dataTable, element);\n",
              "          const docLink = document.createElement('div');\n",
              "          docLink.innerHTML = docLinkHtml;\n",
              "          element.appendChild(docLink);\n",
              "        }\n",
              "      </script>\n",
              "    </div>\n",
              "  </div>\n",
              "  "
            ]
          },
          "metadata": {},
          "execution_count": 4
        }
      ]
    },
    {
      "cell_type": "code",
      "source": [
        "df['country'].unique()#total no of countries visited the hotel"
      ],
      "metadata": {
        "id": "qwwmIz0kaGzf",
        "colab": {
          "base_uri": "https://localhost:8080/"
        },
        "outputId": "055124b0-ddae-4024-d2b7-031b794b73ed"
      },
      "execution_count": 5,
      "outputs": [
        {
          "output_type": "execute_result",
          "data": {
            "text/plain": [
              "array(['PRT', 'GBR', 'USA', 'ESP', 'IRL', 'FRA', nan, 'ROU', 'NOR', 'OMN',\n",
              "       'ARG', 'POL', 'DEU', 'BEL', 'CHE', 'CN', 'GRC', 'ITA', 'NLD',\n",
              "       'DNK', 'RUS', 'SWE', 'AUS', 'EST', 'CZE', 'BRA', 'FIN', 'MOZ',\n",
              "       'BWA', 'LUX', 'SVN', 'ALB', 'IND', 'CHN', 'MEX', 'MAR', 'UKR',\n",
              "       'SMR', 'LVA', 'PRI', 'SRB', 'CHL', 'AUT', 'BLR', 'LTU', 'TUR',\n",
              "       'ZAF', 'AGO', 'ISR', 'CYM', 'ZMB', 'CPV', 'ZWE', 'DZA', 'KOR',\n",
              "       'CRI', 'HUN', 'ARE', 'TUN', 'JAM', 'HRV', 'HKG', 'IRN', 'GEO',\n",
              "       'AND', 'GIB', 'URY', 'JEY', 'CAF', 'CYP', 'COL', 'GGY', 'KWT',\n",
              "       'NGA', 'MDV', 'VEN', 'SVK', 'FJI', 'KAZ', 'PAK', 'IDN', 'LBN',\n",
              "       'PHL', 'SEN', 'SYC', 'AZE', 'BHR', 'NZL', 'THA', 'DOM', 'MKD',\n",
              "       'MYS', 'ARM', 'JPN', 'LKA', 'CUB', 'CMR', 'BIH', 'MUS', 'COM',\n",
              "       'SUR', 'UGA', 'BGR', 'CIV', 'JOR', 'SYR', 'SGP', 'BDI', 'SAU',\n",
              "       'VNM', 'PLW', 'QAT', 'EGY', 'PER', 'MLT', 'MWI', 'ECU', 'MDG',\n",
              "       'ISL', 'UZB', 'NPL', 'BHS', 'MAC', 'TGO', 'TWN', 'DJI', 'STP',\n",
              "       'KNA', 'ETH', 'IRQ', 'HND', 'RWA', 'KHM', 'MCO', 'BGD', 'IMN',\n",
              "       'TJK', 'NIC', 'BEN', 'VGB', 'TZA', 'GAB', 'GHA', 'TMP', 'GLP',\n",
              "       'KEN', 'LIE', 'GNB', 'MNE', 'UMI', 'MYT', 'FRO', 'MMR', 'PAN',\n",
              "       'BFA', 'LBY', 'MLI', 'NAM', 'BOL', 'PRY', 'BRB', 'ABW', 'AIA',\n",
              "       'SLV', 'DMA', 'PYF', 'GUY', 'LCA', 'ATA', 'GTM', 'ASM', 'MRT',\n",
              "       'NCL', 'KIR', 'SDN', 'ATF', 'SLE', 'LAO'], dtype=object)"
            ]
          },
          "metadata": {},
          "execution_count": 5
        }
      ]
    },
    {
      "cell_type": "markdown",
      "source": [
        "## **Data cleaning.**"
      ],
      "metadata": {
        "id": "0cHEKBZR4DJj"
      }
    },
    {
      "cell_type": "code",
      "source": [
        "df.info()"
      ],
      "metadata": {
        "id": "XAQLis5lnDqt",
        "colab": {
          "base_uri": "https://localhost:8080/"
        },
        "outputId": "a735144d-02c7-4962-9fc1-d0dba7d9be27"
      },
      "execution_count": 6,
      "outputs": [
        {
          "output_type": "stream",
          "name": "stdout",
          "text": [
            "<class 'pandas.core.frame.DataFrame'>\n",
            "RangeIndex: 119390 entries, 0 to 119389\n",
            "Data columns (total 32 columns):\n",
            " #   Column                          Non-Null Count   Dtype  \n",
            "---  ------                          --------------   -----  \n",
            " 0   hotel                           119390 non-null  object \n",
            " 1   is_canceled                     119390 non-null  int64  \n",
            " 2   lead_time                       119390 non-null  int64  \n",
            " 3   arrival_date_year               119390 non-null  int64  \n",
            " 4   arrival_date_month              119390 non-null  object \n",
            " 5   arrival_date_week_number        119390 non-null  int64  \n",
            " 6   arrival_date_day_of_month       119390 non-null  int64  \n",
            " 7   stays_in_weekend_nights         119390 non-null  int64  \n",
            " 8   stays_in_week_nights            119390 non-null  int64  \n",
            " 9   adults                          119390 non-null  int64  \n",
            " 10  children                        119386 non-null  float64\n",
            " 11  babies                          119390 non-null  int64  \n",
            " 12  meal                            119390 non-null  object \n",
            " 13  country                         118902 non-null  object \n",
            " 14  market_segment                  119390 non-null  object \n",
            " 15  distribution_channel            119390 non-null  object \n",
            " 16  is_repeated_guest               119390 non-null  int64  \n",
            " 17  previous_cancellations          119390 non-null  int64  \n",
            " 18  previous_bookings_not_canceled  119390 non-null  int64  \n",
            " 19  reserved_room_type              119390 non-null  object \n",
            " 20  assigned_room_type              119390 non-null  object \n",
            " 21  booking_changes                 119390 non-null  int64  \n",
            " 22  deposit_type                    119390 non-null  object \n",
            " 23  agent                           103050 non-null  float64\n",
            " 24  company                         6797 non-null    float64\n",
            " 25  days_in_waiting_list            119390 non-null  int64  \n",
            " 26  customer_type                   119390 non-null  object \n",
            " 27  adr                             119390 non-null  float64\n",
            " 28  required_car_parking_spaces     119390 non-null  int64  \n",
            " 29  total_of_special_requests       119390 non-null  int64  \n",
            " 30  reservation_status              119390 non-null  object \n",
            " 31  reservation_status_date         119390 non-null  object \n",
            "dtypes: float64(4), int64(16), object(12)\n",
            "memory usage: 29.1+ MB\n"
          ]
        }
      ]
    },
    {
      "cell_type": "code",
      "source": [
        "df.shape"
      ],
      "metadata": {
        "id": "VaipFqtvuk_k",
        "colab": {
          "base_uri": "https://localhost:8080/"
        },
        "outputId": "19cbd6f5-850b-4cf5-814b-b9f0fab2dcb8"
      },
      "execution_count": 7,
      "outputs": [
        {
          "output_type": "execute_result",
          "data": {
            "text/plain": [
              "(119390, 32)"
            ]
          },
          "metadata": {},
          "execution_count": 7
        }
      ]
    },
    {
      "cell_type": "code",
      "source": [
        "df.isnull().sum()#total no of missing values."
      ],
      "metadata": {
        "id": "InOPl5GiMfNa",
        "colab": {
          "base_uri": "https://localhost:8080/"
        },
        "outputId": "c83689ba-9cbb-4eeb-e724-4eb280b5dc7b"
      },
      "execution_count": 8,
      "outputs": [
        {
          "output_type": "execute_result",
          "data": {
            "text/plain": [
              "hotel                                  0\n",
              "is_canceled                            0\n",
              "lead_time                              0\n",
              "arrival_date_year                      0\n",
              "arrival_date_month                     0\n",
              "arrival_date_week_number               0\n",
              "arrival_date_day_of_month              0\n",
              "stays_in_weekend_nights                0\n",
              "stays_in_week_nights                   0\n",
              "adults                                 0\n",
              "children                               4\n",
              "babies                                 0\n",
              "meal                                   0\n",
              "country                              488\n",
              "market_segment                         0\n",
              "distribution_channel                   0\n",
              "is_repeated_guest                      0\n",
              "previous_cancellations                 0\n",
              "previous_bookings_not_canceled         0\n",
              "reserved_room_type                     0\n",
              "assigned_room_type                     0\n",
              "booking_changes                        0\n",
              "deposit_type                           0\n",
              "agent                              16340\n",
              "company                           112593\n",
              "days_in_waiting_list                   0\n",
              "customer_type                          0\n",
              "adr                                    0\n",
              "required_car_parking_spaces            0\n",
              "total_of_special_requests              0\n",
              "reservation_status                     0\n",
              "reservation_status_date                0\n",
              "dtype: int64"
            ]
          },
          "metadata": {},
          "execution_count": 8
        }
      ]
    },
    {
      "cell_type": "code",
      "source": [
        "df['country'].fillna(0,inplace=True)\n",
        "df['children'].fillna(0,inplace=True)\n",
        "df['company'].fillna(0,inplace=True)\n",
        "df['agent'].fillna(0,inplace=True)\n",
        "df.info()"
      ],
      "metadata": {
        "id": "JEDiM3MLvgOr",
        "colab": {
          "base_uri": "https://localhost:8080/"
        },
        "outputId": "23508d1c-2a94-46eb-b887-7c8bce616368"
      },
      "execution_count": 9,
      "outputs": [
        {
          "output_type": "stream",
          "name": "stdout",
          "text": [
            "<class 'pandas.core.frame.DataFrame'>\n",
            "RangeIndex: 119390 entries, 0 to 119389\n",
            "Data columns (total 32 columns):\n",
            " #   Column                          Non-Null Count   Dtype  \n",
            "---  ------                          --------------   -----  \n",
            " 0   hotel                           119390 non-null  object \n",
            " 1   is_canceled                     119390 non-null  int64  \n",
            " 2   lead_time                       119390 non-null  int64  \n",
            " 3   arrival_date_year               119390 non-null  int64  \n",
            " 4   arrival_date_month              119390 non-null  object \n",
            " 5   arrival_date_week_number        119390 non-null  int64  \n",
            " 6   arrival_date_day_of_month       119390 non-null  int64  \n",
            " 7   stays_in_weekend_nights         119390 non-null  int64  \n",
            " 8   stays_in_week_nights            119390 non-null  int64  \n",
            " 9   adults                          119390 non-null  int64  \n",
            " 10  children                        119390 non-null  float64\n",
            " 11  babies                          119390 non-null  int64  \n",
            " 12  meal                            119390 non-null  object \n",
            " 13  country                         119390 non-null  object \n",
            " 14  market_segment                  119390 non-null  object \n",
            " 15  distribution_channel            119390 non-null  object \n",
            " 16  is_repeated_guest               119390 non-null  int64  \n",
            " 17  previous_cancellations          119390 non-null  int64  \n",
            " 18  previous_bookings_not_canceled  119390 non-null  int64  \n",
            " 19  reserved_room_type              119390 non-null  object \n",
            " 20  assigned_room_type              119390 non-null  object \n",
            " 21  booking_changes                 119390 non-null  int64  \n",
            " 22  deposit_type                    119390 non-null  object \n",
            " 23  agent                           119390 non-null  float64\n",
            " 24  company                         119390 non-null  float64\n",
            " 25  days_in_waiting_list            119390 non-null  int64  \n",
            " 26  customer_type                   119390 non-null  object \n",
            " 27  adr                             119390 non-null  float64\n",
            " 28  required_car_parking_spaces     119390 non-null  int64  \n",
            " 29  total_of_special_requests       119390 non-null  int64  \n",
            " 30  reservation_status              119390 non-null  object \n",
            " 31  reservation_status_date         119390 non-null  object \n",
            "dtypes: float64(4), int64(16), object(12)\n",
            "memory usage: 29.1+ MB\n"
          ]
        }
      ]
    },
    {
      "cell_type": "code",
      "source": [
        "df.describe()"
      ],
      "metadata": {
        "id": "aPiEJHVTQ4fO",
        "colab": {
          "base_uri": "https://localhost:8080/",
          "height": 364
        },
        "outputId": "a5fda401-5170-4b04-cfe1-c01eb2f5ae26"
      },
      "execution_count": 10,
      "outputs": [
        {
          "output_type": "execute_result",
          "data": {
            "text/plain": [
              "         is_canceled      lead_time  arrival_date_year  \\\n",
              "count  119390.000000  119390.000000      119390.000000   \n",
              "mean        0.370416     104.011416        2016.156554   \n",
              "std         0.482918     106.863097           0.707476   \n",
              "min         0.000000       0.000000        2015.000000   \n",
              "25%         0.000000      18.000000        2016.000000   \n",
              "50%         0.000000      69.000000        2016.000000   \n",
              "75%         1.000000     160.000000        2017.000000   \n",
              "max         1.000000     737.000000        2017.000000   \n",
              "\n",
              "       arrival_date_week_number  arrival_date_day_of_month  \\\n",
              "count             119390.000000              119390.000000   \n",
              "mean                  27.165173                  15.798241   \n",
              "std                   13.605138                   8.780829   \n",
              "min                    1.000000                   1.000000   \n",
              "25%                   16.000000                   8.000000   \n",
              "50%                   28.000000                  16.000000   \n",
              "75%                   38.000000                  23.000000   \n",
              "max                   53.000000                  31.000000   \n",
              "\n",
              "       stays_in_weekend_nights  stays_in_week_nights         adults  \\\n",
              "count            119390.000000         119390.000000  119390.000000   \n",
              "mean                  0.927599              2.500302       1.856403   \n",
              "std                   0.998613              1.908286       0.579261   \n",
              "min                   0.000000              0.000000       0.000000   \n",
              "25%                   0.000000              1.000000       2.000000   \n",
              "50%                   1.000000              2.000000       2.000000   \n",
              "75%                   2.000000              3.000000       2.000000   \n",
              "max                  19.000000             50.000000      55.000000   \n",
              "\n",
              "            children         babies  is_repeated_guest  \\\n",
              "count  119390.000000  119390.000000      119390.000000   \n",
              "mean        0.103886       0.007949           0.031912   \n",
              "std         0.398555       0.097436           0.175767   \n",
              "min         0.000000       0.000000           0.000000   \n",
              "25%         0.000000       0.000000           0.000000   \n",
              "50%         0.000000       0.000000           0.000000   \n",
              "75%         0.000000       0.000000           0.000000   \n",
              "max        10.000000      10.000000           1.000000   \n",
              "\n",
              "       previous_cancellations  previous_bookings_not_canceled  \\\n",
              "count           119390.000000                   119390.000000   \n",
              "mean                 0.087118                        0.137097   \n",
              "std                  0.844336                        1.497437   \n",
              "min                  0.000000                        0.000000   \n",
              "25%                  0.000000                        0.000000   \n",
              "50%                  0.000000                        0.000000   \n",
              "75%                  0.000000                        0.000000   \n",
              "max                 26.000000                       72.000000   \n",
              "\n",
              "       booking_changes          agent        company  days_in_waiting_list  \\\n",
              "count    119390.000000  119390.000000  119390.000000         119390.000000   \n",
              "mean          0.221124      74.828319      10.775157              2.321149   \n",
              "std           0.652306     107.141953      53.943884             17.594721   \n",
              "min           0.000000       0.000000       0.000000              0.000000   \n",
              "25%           0.000000       7.000000       0.000000              0.000000   \n",
              "50%           0.000000       9.000000       0.000000              0.000000   \n",
              "75%           0.000000     152.000000       0.000000              0.000000   \n",
              "max          21.000000     535.000000     543.000000            391.000000   \n",
              "\n",
              "                 adr  required_car_parking_spaces  total_of_special_requests  \n",
              "count  119390.000000                119390.000000              119390.000000  \n",
              "mean      101.831122                     0.062518                   0.571363  \n",
              "std        50.535790                     0.245291                   0.792798  \n",
              "min        -6.380000                     0.000000                   0.000000  \n",
              "25%        69.290000                     0.000000                   0.000000  \n",
              "50%        94.575000                     0.000000                   0.000000  \n",
              "75%       126.000000                     0.000000                   1.000000  \n",
              "max      5400.000000                     8.000000                   5.000000  "
            ],
            "text/html": [
              "\n",
              "  <div id=\"df-132fa1fd-0ae4-4e3a-8079-10074f670b53\">\n",
              "    <div class=\"colab-df-container\">\n",
              "      <div>\n",
              "<style scoped>\n",
              "    .dataframe tbody tr th:only-of-type {\n",
              "        vertical-align: middle;\n",
              "    }\n",
              "\n",
              "    .dataframe tbody tr th {\n",
              "        vertical-align: top;\n",
              "    }\n",
              "\n",
              "    .dataframe thead th {\n",
              "        text-align: right;\n",
              "    }\n",
              "</style>\n",
              "<table border=\"1\" class=\"dataframe\">\n",
              "  <thead>\n",
              "    <tr style=\"text-align: right;\">\n",
              "      <th></th>\n",
              "      <th>is_canceled</th>\n",
              "      <th>lead_time</th>\n",
              "      <th>arrival_date_year</th>\n",
              "      <th>arrival_date_week_number</th>\n",
              "      <th>arrival_date_day_of_month</th>\n",
              "      <th>stays_in_weekend_nights</th>\n",
              "      <th>stays_in_week_nights</th>\n",
              "      <th>adults</th>\n",
              "      <th>children</th>\n",
              "      <th>babies</th>\n",
              "      <th>is_repeated_guest</th>\n",
              "      <th>previous_cancellations</th>\n",
              "      <th>previous_bookings_not_canceled</th>\n",
              "      <th>booking_changes</th>\n",
              "      <th>agent</th>\n",
              "      <th>company</th>\n",
              "      <th>days_in_waiting_list</th>\n",
              "      <th>adr</th>\n",
              "      <th>required_car_parking_spaces</th>\n",
              "      <th>total_of_special_requests</th>\n",
              "    </tr>\n",
              "  </thead>\n",
              "  <tbody>\n",
              "    <tr>\n",
              "      <th>count</th>\n",
              "      <td>119390.000000</td>\n",
              "      <td>119390.000000</td>\n",
              "      <td>119390.000000</td>\n",
              "      <td>119390.000000</td>\n",
              "      <td>119390.000000</td>\n",
              "      <td>119390.000000</td>\n",
              "      <td>119390.000000</td>\n",
              "      <td>119390.000000</td>\n",
              "      <td>119390.000000</td>\n",
              "      <td>119390.000000</td>\n",
              "      <td>119390.000000</td>\n",
              "      <td>119390.000000</td>\n",
              "      <td>119390.000000</td>\n",
              "      <td>119390.000000</td>\n",
              "      <td>119390.000000</td>\n",
              "      <td>119390.000000</td>\n",
              "      <td>119390.000000</td>\n",
              "      <td>119390.000000</td>\n",
              "      <td>119390.000000</td>\n",
              "      <td>119390.000000</td>\n",
              "    </tr>\n",
              "    <tr>\n",
              "      <th>mean</th>\n",
              "      <td>0.370416</td>\n",
              "      <td>104.011416</td>\n",
              "      <td>2016.156554</td>\n",
              "      <td>27.165173</td>\n",
              "      <td>15.798241</td>\n",
              "      <td>0.927599</td>\n",
              "      <td>2.500302</td>\n",
              "      <td>1.856403</td>\n",
              "      <td>0.103886</td>\n",
              "      <td>0.007949</td>\n",
              "      <td>0.031912</td>\n",
              "      <td>0.087118</td>\n",
              "      <td>0.137097</td>\n",
              "      <td>0.221124</td>\n",
              "      <td>74.828319</td>\n",
              "      <td>10.775157</td>\n",
              "      <td>2.321149</td>\n",
              "      <td>101.831122</td>\n",
              "      <td>0.062518</td>\n",
              "      <td>0.571363</td>\n",
              "    </tr>\n",
              "    <tr>\n",
              "      <th>std</th>\n",
              "      <td>0.482918</td>\n",
              "      <td>106.863097</td>\n",
              "      <td>0.707476</td>\n",
              "      <td>13.605138</td>\n",
              "      <td>8.780829</td>\n",
              "      <td>0.998613</td>\n",
              "      <td>1.908286</td>\n",
              "      <td>0.579261</td>\n",
              "      <td>0.398555</td>\n",
              "      <td>0.097436</td>\n",
              "      <td>0.175767</td>\n",
              "      <td>0.844336</td>\n",
              "      <td>1.497437</td>\n",
              "      <td>0.652306</td>\n",
              "      <td>107.141953</td>\n",
              "      <td>53.943884</td>\n",
              "      <td>17.594721</td>\n",
              "      <td>50.535790</td>\n",
              "      <td>0.245291</td>\n",
              "      <td>0.792798</td>\n",
              "    </tr>\n",
              "    <tr>\n",
              "      <th>min</th>\n",
              "      <td>0.000000</td>\n",
              "      <td>0.000000</td>\n",
              "      <td>2015.000000</td>\n",
              "      <td>1.000000</td>\n",
              "      <td>1.000000</td>\n",
              "      <td>0.000000</td>\n",
              "      <td>0.000000</td>\n",
              "      <td>0.000000</td>\n",
              "      <td>0.000000</td>\n",
              "      <td>0.000000</td>\n",
              "      <td>0.000000</td>\n",
              "      <td>0.000000</td>\n",
              "      <td>0.000000</td>\n",
              "      <td>0.000000</td>\n",
              "      <td>0.000000</td>\n",
              "      <td>0.000000</td>\n",
              "      <td>0.000000</td>\n",
              "      <td>-6.380000</td>\n",
              "      <td>0.000000</td>\n",
              "      <td>0.000000</td>\n",
              "    </tr>\n",
              "    <tr>\n",
              "      <th>25%</th>\n",
              "      <td>0.000000</td>\n",
              "      <td>18.000000</td>\n",
              "      <td>2016.000000</td>\n",
              "      <td>16.000000</td>\n",
              "      <td>8.000000</td>\n",
              "      <td>0.000000</td>\n",
              "      <td>1.000000</td>\n",
              "      <td>2.000000</td>\n",
              "      <td>0.000000</td>\n",
              "      <td>0.000000</td>\n",
              "      <td>0.000000</td>\n",
              "      <td>0.000000</td>\n",
              "      <td>0.000000</td>\n",
              "      <td>0.000000</td>\n",
              "      <td>7.000000</td>\n",
              "      <td>0.000000</td>\n",
              "      <td>0.000000</td>\n",
              "      <td>69.290000</td>\n",
              "      <td>0.000000</td>\n",
              "      <td>0.000000</td>\n",
              "    </tr>\n",
              "    <tr>\n",
              "      <th>50%</th>\n",
              "      <td>0.000000</td>\n",
              "      <td>69.000000</td>\n",
              "      <td>2016.000000</td>\n",
              "      <td>28.000000</td>\n",
              "      <td>16.000000</td>\n",
              "      <td>1.000000</td>\n",
              "      <td>2.000000</td>\n",
              "      <td>2.000000</td>\n",
              "      <td>0.000000</td>\n",
              "      <td>0.000000</td>\n",
              "      <td>0.000000</td>\n",
              "      <td>0.000000</td>\n",
              "      <td>0.000000</td>\n",
              "      <td>0.000000</td>\n",
              "      <td>9.000000</td>\n",
              "      <td>0.000000</td>\n",
              "      <td>0.000000</td>\n",
              "      <td>94.575000</td>\n",
              "      <td>0.000000</td>\n",
              "      <td>0.000000</td>\n",
              "    </tr>\n",
              "    <tr>\n",
              "      <th>75%</th>\n",
              "      <td>1.000000</td>\n",
              "      <td>160.000000</td>\n",
              "      <td>2017.000000</td>\n",
              "      <td>38.000000</td>\n",
              "      <td>23.000000</td>\n",
              "      <td>2.000000</td>\n",
              "      <td>3.000000</td>\n",
              "      <td>2.000000</td>\n",
              "      <td>0.000000</td>\n",
              "      <td>0.000000</td>\n",
              "      <td>0.000000</td>\n",
              "      <td>0.000000</td>\n",
              "      <td>0.000000</td>\n",
              "      <td>0.000000</td>\n",
              "      <td>152.000000</td>\n",
              "      <td>0.000000</td>\n",
              "      <td>0.000000</td>\n",
              "      <td>126.000000</td>\n",
              "      <td>0.000000</td>\n",
              "      <td>1.000000</td>\n",
              "    </tr>\n",
              "    <tr>\n",
              "      <th>max</th>\n",
              "      <td>1.000000</td>\n",
              "      <td>737.000000</td>\n",
              "      <td>2017.000000</td>\n",
              "      <td>53.000000</td>\n",
              "      <td>31.000000</td>\n",
              "      <td>19.000000</td>\n",
              "      <td>50.000000</td>\n",
              "      <td>55.000000</td>\n",
              "      <td>10.000000</td>\n",
              "      <td>10.000000</td>\n",
              "      <td>1.000000</td>\n",
              "      <td>26.000000</td>\n",
              "      <td>72.000000</td>\n",
              "      <td>21.000000</td>\n",
              "      <td>535.000000</td>\n",
              "      <td>543.000000</td>\n",
              "      <td>391.000000</td>\n",
              "      <td>5400.000000</td>\n",
              "      <td>8.000000</td>\n",
              "      <td>5.000000</td>\n",
              "    </tr>\n",
              "  </tbody>\n",
              "</table>\n",
              "</div>\n",
              "      <button class=\"colab-df-convert\" onclick=\"convertToInteractive('df-132fa1fd-0ae4-4e3a-8079-10074f670b53')\"\n",
              "              title=\"Convert this dataframe to an interactive table.\"\n",
              "              style=\"display:none;\">\n",
              "        \n",
              "  <svg xmlns=\"http://www.w3.org/2000/svg\" height=\"24px\"viewBox=\"0 0 24 24\"\n",
              "       width=\"24px\">\n",
              "    <path d=\"M0 0h24v24H0V0z\" fill=\"none\"/>\n",
              "    <path d=\"M18.56 5.44l.94 2.06.94-2.06 2.06-.94-2.06-.94-.94-2.06-.94 2.06-2.06.94zm-11 1L8.5 8.5l.94-2.06 2.06-.94-2.06-.94L8.5 2.5l-.94 2.06-2.06.94zm10 10l.94 2.06.94-2.06 2.06-.94-2.06-.94-.94-2.06-.94 2.06-2.06.94z\"/><path d=\"M17.41 7.96l-1.37-1.37c-.4-.4-.92-.59-1.43-.59-.52 0-1.04.2-1.43.59L10.3 9.45l-7.72 7.72c-.78.78-.78 2.05 0 2.83L4 21.41c.39.39.9.59 1.41.59.51 0 1.02-.2 1.41-.59l7.78-7.78 2.81-2.81c.8-.78.8-2.07 0-2.86zM5.41 20L4 18.59l7.72-7.72 1.47 1.35L5.41 20z\"/>\n",
              "  </svg>\n",
              "      </button>\n",
              "      \n",
              "  <style>\n",
              "    .colab-df-container {\n",
              "      display:flex;\n",
              "      flex-wrap:wrap;\n",
              "      gap: 12px;\n",
              "    }\n",
              "\n",
              "    .colab-df-convert {\n",
              "      background-color: #E8F0FE;\n",
              "      border: none;\n",
              "      border-radius: 50%;\n",
              "      cursor: pointer;\n",
              "      display: none;\n",
              "      fill: #1967D2;\n",
              "      height: 32px;\n",
              "      padding: 0 0 0 0;\n",
              "      width: 32px;\n",
              "    }\n",
              "\n",
              "    .colab-df-convert:hover {\n",
              "      background-color: #E2EBFA;\n",
              "      box-shadow: 0px 1px 2px rgba(60, 64, 67, 0.3), 0px 1px 3px 1px rgba(60, 64, 67, 0.15);\n",
              "      fill: #174EA6;\n",
              "    }\n",
              "\n",
              "    [theme=dark] .colab-df-convert {\n",
              "      background-color: #3B4455;\n",
              "      fill: #D2E3FC;\n",
              "    }\n",
              "\n",
              "    [theme=dark] .colab-df-convert:hover {\n",
              "      background-color: #434B5C;\n",
              "      box-shadow: 0px 1px 3px 1px rgba(0, 0, 0, 0.15);\n",
              "      filter: drop-shadow(0px 1px 2px rgba(0, 0, 0, 0.3));\n",
              "      fill: #FFFFFF;\n",
              "    }\n",
              "  </style>\n",
              "\n",
              "      <script>\n",
              "        const buttonEl =\n",
              "          document.querySelector('#df-132fa1fd-0ae4-4e3a-8079-10074f670b53 button.colab-df-convert');\n",
              "        buttonEl.style.display =\n",
              "          google.colab.kernel.accessAllowed ? 'block' : 'none';\n",
              "\n",
              "        async function convertToInteractive(key) {\n",
              "          const element = document.querySelector('#df-132fa1fd-0ae4-4e3a-8079-10074f670b53');\n",
              "          const dataTable =\n",
              "            await google.colab.kernel.invokeFunction('convertToInteractive',\n",
              "                                                     [key], {});\n",
              "          if (!dataTable) return;\n",
              "\n",
              "          const docLinkHtml = 'Like what you see? Visit the ' +\n",
              "            '<a target=\"_blank\" href=https://colab.research.google.com/notebooks/data_table.ipynb>data table notebook</a>'\n",
              "            + ' to learn more about interactive tables.';\n",
              "          element.innerHTML = '';\n",
              "          dataTable['output_type'] = 'display_data';\n",
              "          await google.colab.output.renderOutput(dataTable, element);\n",
              "          const docLink = document.createElement('div');\n",
              "          docLink.innerHTML = docLinkHtml;\n",
              "          element.appendChild(docLink);\n",
              "        }\n",
              "      </script>\n",
              "    </div>\n",
              "  </div>\n",
              "  "
            ]
          },
          "metadata": {},
          "execution_count": 10
        }
      ]
    },
    {
      "cell_type": "markdown",
      "source": [
        "### Total no of city hotel and resort hotel.\n",
        "\n"
      ],
      "metadata": {
        "id": "7c2MwWtg4j1j"
      }
    },
    {
      "cell_type": "code",
      "source": [
        "df['hotel'].value_counts()"
      ],
      "metadata": {
        "id": "vPTimwCwogY0",
        "colab": {
          "base_uri": "https://localhost:8080/"
        },
        "outputId": "5f588641-b351-4123-8162-4a1e254ff6e5"
      },
      "execution_count": 11,
      "outputs": [
        {
          "output_type": "execute_result",
          "data": {
            "text/plain": [
              "City Hotel      79330\n",
              "Resort Hotel    40060\n",
              "Name: hotel, dtype: int64"
            ]
          },
          "metadata": {},
          "execution_count": 11
        }
      ]
    },
    {
      "cell_type": "code",
      "source": [
        "sns.countplot(x='hotel',data=df)#rh type have 40000 n ch have 80000 bookings\n",
        "plt.show()"
      ],
      "metadata": {
        "id": "YztQAYiYpeFV",
        "colab": {
          "base_uri": "https://localhost:8080/",
          "height": 279
        },
        "outputId": "b524d4b6-344b-4854-8b79-6889edc70bfe"
      },
      "execution_count": 12,
      "outputs": [
        {
          "output_type": "display_data",
          "data": {
            "text/plain": [
              "<Figure size 432x288 with 1 Axes>"
            ],
            "image/png": "[encoded data removed]"
          },
          "metadata": {
            "needs_background": "light"
          }
        }
      ]
    },
    {
      "cell_type": "markdown",
      "source": [
        "### Types of meals mostly preffered."
      ],
      "metadata": {
        "id": "7H75C8dG5SS1"
      }
    },
    {
      "cell_type": "code",
      "source": [
        "dailymeal=df['meal'].value_counts()\n",
        "dailymeal"
      ],
      "metadata": {
        "id": "2EOlinfETPlh",
        "colab": {
          "base_uri": "https://localhost:8080/"
        },
        "outputId": "2638ac7d-4a84-444f-adb5-f7d37b2ec5a5"
      },
      "execution_count": 13,
      "outputs": [
        {
          "output_type": "execute_result",
          "data": {
            "text/plain": [
              "BB           92310\n",
              "HB           14463\n",
              "SC           10650\n",
              "Undefined     1169\n",
              "FB             798\n",
              "Name: meal, dtype: int64"
            ]
          },
          "metadata": {},
          "execution_count": 13
        }
      ]
    },
    {
      "cell_type": "code",
      "source": [
        "dailymeal.plot(kind='bar',figsize=(10,5))\n",
        "#plt.plot(dailymeal)\n",
        "\n",
        "plt.title('Types of daily meal consumed ')\n",
        "plt.ylabel('TOTAL')\n",
        "plt.xlabel('MEAL')\n"
      ],
      "metadata": {
        "id": "OfoIJoo8XRAi",
        "colab": {
          "base_uri": "https://localhost:8080/",
          "height": 408
        },
        "outputId": "7d960633-77ce-4f03-de4c-d053db9f415d"
      },
      "execution_count": 14,
      "outputs": [
        {
          "output_type": "execute_result",
          "data": {
            "text/plain": [
              "Text(0.5, 0, 'MEAL')"
            ]
          },
          "metadata": {},
          "execution_count": 14
        },
        {
          "output_type": "display_data",
          "data": {
            "text/plain": [
              "<Figure size 720x360 with 1 Axes>"
            ],
            "image/png": "[encoded data removed]"
          },
          "metadata": {
            "needs_background": "light"
          }
        }
      ]
    },
    {
      "cell_type": "code",
      "source": [
        "deposittype=df.groupby('hotel')['deposit_type'].value_counts()\n",
        "deposittype"
      ],
      "metadata": {
        "id": "10A2Q_R0wca2",
        "colab": {
          "base_uri": "https://localhost:8080/"
        },
        "outputId": "2b49d119-8fb4-4fdf-d89d-7aab32c9cf2f"
      },
      "execution_count": 15,
      "outputs": [
        {
          "output_type": "execute_result",
          "data": {
            "text/plain": [
              "hotel         deposit_type\n",
              "City Hotel    No Deposit      66442\n",
              "              Non Refund      12868\n",
              "              Refundable         20\n",
              "Resort Hotel  No Deposit      38199\n",
              "              Non Refund       1719\n",
              "              Refundable        142\n",
              "Name: deposit_type, dtype: int64"
            ]
          },
          "metadata": {},
          "execution_count": 15
        }
      ]
    },
    {
      "cell_type": "code",
      "source": [
        "\n",
        "sns.countplot(x='deposit_type',data=df )"
      ],
      "metadata": {
        "id": "AeH0IUhpUQ5G",
        "colab": {
          "base_uri": "https://localhost:8080/",
          "height": 297
        },
        "outputId": "5e454368-723a-47e4-d4b2-87e54b9fae87"
      },
      "execution_count": 16,
      "outputs": [
        {
          "output_type": "execute_result",
          "data": {
            "text/plain": [
              "<matplotlib.axes._subplots.AxesSubplot at 0x7f203b446250>"
            ]
          },
          "metadata": {},
          "execution_count": 16
        },
        {
          "output_type": "display_data",
          "data": {
            "text/plain": [
              "<Figure size 432x288 with 1 Axes>"
            ],
            "image/png": "[encoded data removed]"
          },
          "metadata": {
            "needs_background": "light"
          }
        }
      ]
    },
    {
      "cell_type": "markdown",
      "source": [
        "## cancellation ratio."
      ],
      "metadata": {
        "id": "iIfMQEYv63QZ"
      }
    },
    {
      "cell_type": "code",
      "source": [
        "g=df['is_canceled'].value_counts()#0 denotes not_canceled,1 denotes  canceled\n",
        "g.plot.bar()"
      ],
      "metadata": {
        "id": "PIyVz6Ohib__",
        "colab": {
          "base_uri": "https://localhost:8080/",
          "height": 279
        },
        "outputId": "3d7fcb11-70d0-4bad-e04a-c70bf3993c54"
      },
      "execution_count": 17,
      "outputs": [
        {
          "output_type": "execute_result",
          "data": {
            "text/plain": [
              "<matplotlib.axes._subplots.AxesSubplot at 0x7f203b39abd0>"
            ]
          },
          "metadata": {},
          "execution_count": 17
        },
        {
          "output_type": "display_data",
          "data": {
            "text/plain": [
              "<Figure size 432x288 with 1 Axes>"
            ],
            "image/png": "[encoded data removed]"
          },
          "metadata": {
            "needs_background": "light"
          }
        }
      ]
    },
    {
      "cell_type": "markdown",
      "source": [
        "### cancellation ratio in different hotels."
      ],
      "metadata": {
        "id": "PFhgq4HL7X-L"
      }
    },
    {
      "cell_type": "code",
      "source": [
        "\n",
        "f=df.groupby(['is_canceled','hotel']).size().unstack()\n",
        "f.plot(kind='bar')\n"
      ],
      "metadata": {
        "id": "3jHl6f7wsvxP",
        "colab": {
          "base_uri": "https://localhost:8080/",
          "height": 294
        },
        "outputId": "01316872-eeb2-4336-83e0-d0288679b93a"
      },
      "execution_count": 18,
      "outputs": [
        {
          "output_type": "execute_result",
          "data": {
            "text/plain": [
              "<matplotlib.axes._subplots.AxesSubplot at 0x7f203b312b90>"
            ]
          },
          "metadata": {},
          "execution_count": 18
        },
        {
          "output_type": "display_data",
          "data": {
            "text/plain": [
              "<Figure size 432x288 with 1 Axes>"
            ],
            "image/png": "[encoded data removed]"
          },
          "metadata": {
            "needs_background": "light"
          }
        }
      ]
    },
    {
      "cell_type": "code",
      "source": [
        "df.groupby('arrival_date_month')['adr'].value_counts()"
      ],
      "metadata": {
        "id": "ndmhPqHL7tjU",
        "colab": {
          "base_uri": "https://localhost:8080/"
        },
        "outputId": "aa67cff1-7a2f-4660-ffca-59094b378b04"
      },
      "execution_count": 19,
      "outputs": [
        {
          "output_type": "execute_result",
          "data": {
            "text/plain": [
              "arrival_date_month  adr  \n",
              "April               85.0     393\n",
              "                    90.0     326\n",
              "                    95.0     325\n",
              "                    99.0     276\n",
              "                    100.0    273\n",
              "                            ... \n",
              "September           292.4      1\n",
              "                    295.0      1\n",
              "                    306.0      1\n",
              "                    307.5      1\n",
              "                    345.0      1\n",
              "Name: adr, Length: 19968, dtype: int64"
            ]
          },
          "metadata": {},
          "execution_count": 19
        }
      ]
    },
    {
      "cell_type": "markdown",
      "source": [
        "## yearly bookings"
      ],
      "metadata": {
        "id": "gvR42lLH9TSI"
      }
    },
    {
      "cell_type": "code",
      "source": [
        "df['arrival_date_year'].value_counts()"
      ],
      "metadata": {
        "id": "RkVrCc6avgwK",
        "colab": {
          "base_uri": "https://localhost:8080/"
        },
        "outputId": "8a51fbb0-969b-4925-e05b-28e2966e0ea7"
      },
      "execution_count": 20,
      "outputs": [
        {
          "output_type": "execute_result",
          "data": {
            "text/plain": [
              "2016    56707\n",
              "2017    40687\n",
              "2015    21996\n",
              "Name: arrival_date_year, dtype: int64"
            ]
          },
          "metadata": {},
          "execution_count": 20
        }
      ]
    },
    {
      "cell_type": "code",
      "source": [
        "sns.countplot(x='arrival_date_year',data=df).set_title('yearly_booking')"
      ],
      "metadata": {
        "id": "wLBlXoQ28rij",
        "colab": {
          "base_uri": "https://localhost:8080/",
          "height": 313
        },
        "outputId": "c16685dc-7a78-499e-961c-37f9cfed3a95"
      },
      "execution_count": 21,
      "outputs": [
        {
          "output_type": "execute_result",
          "data": {
            "text/plain": [
              "Text(0.5, 1.0, 'yearly_booking')"
            ]
          },
          "metadata": {},
          "execution_count": 21
        },
        {
          "output_type": "display_data",
          "data": {
            "text/plain": [
              "<Figure size 432x288 with 1 Axes>"
            ],
            "image/png": "[encoded data removed]"
          },
          "metadata": {
            "needs_background": "light"
          }
        }
      ]
    },
    {
      "cell_type": "code",
      "source": [
        "a=df.groupby('hotel')['country'].value_counts()\n",
        "a"
      ],
      "metadata": {
        "id": "gggCId_Z79DX",
        "colab": {
          "base_uri": "https://localhost:8080/"
        },
        "outputId": "909d2ef3-0dc6-45cb-b03b-9cc8ff5f2f84"
      },
      "execution_count": 22,
      "outputs": [
        {
          "output_type": "execute_result",
          "data": {
            "text/plain": [
              "hotel         country\n",
              "City Hotel    PRT        30960\n",
              "              FRA         8804\n",
              "              DEU         6084\n",
              "              GBR         5315\n",
              "              ESP         4611\n",
              "                         ...  \n",
              "Resort Hotel  TGO            1\n",
              "              TUN            1\n",
              "              UGA            1\n",
              "              UZB            1\n",
              "              ZMB            1\n",
              "Name: country, Length: 293, dtype: int64"
            ]
          },
          "metadata": {},
          "execution_count": 22
        }
      ]
    },
    {
      "cell_type": "markdown",
      "source": [
        "## [1] **From where the most families are coming?**"
      ],
      "metadata": {
        "id": "nhy1KrTWtCE5"
      }
    },
    {
      "cell_type": "code",
      "source": [
        "most_visited_people=df['country'].value_counts()[:20]\n",
        "plt.figure(figsize=(10,5))\n",
        "most_visited_people.plot.bar()\n"
      ],
      "metadata": {
        "id": "eav6tT2krkTB",
        "colab": {
          "base_uri": "https://localhost:8080/",
          "height": 349
        },
        "outputId": "15500618-204e-4052-c367-3d06632a1b83"
      },
      "execution_count": 23,
      "outputs": [
        {
          "output_type": "execute_result",
          "data": {
            "text/plain": [
              "<matplotlib.axes._subplots.AxesSubplot at 0x7f203b2ad5d0>"
            ]
          },
          "metadata": {},
          "execution_count": 23
        },
        {
          "output_type": "display_data",
          "data": {
            "text/plain": [
              "<Figure size 720x360 with 1 Axes>"
            ],
            "image/png": "[encoded data removed]"
          },
          "metadata": {
            "needs_background": "light"
          }
        }
      ]
    },
    {
      "cell_type": "code",
      "source": [
        "plt.figure(figsize=(8,8))\n",
        "plt.pie(list(df['country'].value_counts()[0:10]),labels=list(df['country'].value_counts().keys()[0:10]),autopct='%0.1f%%')"
      ],
      "metadata": {
        "id": "oEHhp4psGSyL",
        "colab": {
          "base_uri": "https://localhost:8080/",
          "height": 987
        },
        "outputId": "6c376cd8-7d82-4d0c-9cbf-1c69e6c7c828"
      },
      "execution_count": 24,
      "outputs": [
        {
          "output_type": "execute_result",
          "data": {
            "text/plain": [
              "([<matplotlib.patches.Wedge at 0x7f203b11f490>,\n",
              "  <matplotlib.patches.Wedge at 0x7f203b11fc50>,\n",
              "  <matplotlib.patches.Wedge at 0x7f203b12b510>,\n",
              "  <matplotlib.patches.Wedge at 0x7f203b12be10>,\n",
              "  <matplotlib.patches.Wedge at 0x7f203b136990>,\n",
              "  <matplotlib.patches.Wedge at 0x7f203b141310>,\n",
              "  <matplotlib.patches.Wedge at 0x7f203b1418d0>,\n",
              "  <matplotlib.patches.Wedge at 0x7f203b14b190>,\n",
              "  <matplotlib.patches.Wedge at 0x7f203b136690>,\n",
              "  <matplotlib.patches.Wedge at 0x7f203b141050>],\n",
              " [Text(0.062019772033133976, 1.098250220977423, 'PRT'),\n",
              "  Text(-1.0615450979524124, -0.28830887085416484, 'GBR'),\n",
              "  Text(-0.6238094542805637, -0.9060142188454802, 'FRA'),\n",
              "  Text(-0.012478781665171754, -1.0999292159080751, 'ESP'),\n",
              "  Text(0.5106887486817722, -0.9742674180992844, 'DEU'),\n",
              "  Text(0.8097068270855042, -0.7445635326626772, 'ITA'),\n",
              "  Text(0.9540816597293056, -0.5474743706952626, 'IRL'),\n",
              "  Text(1.0360099599401704, -0.3697071312603623, 'BEL'),\n",
              "  Text(1.0779718294283671, -0.21903592161757285, 'BRA'),\n",
              "  Text(1.097635840664098, -0.07208024201970305, 'NLD')],\n",
              " [Text(0.033828966563527615, 0.5990455750785942, '48.2%'),\n",
              "  Text(-0.579024598883134, -0.15725938410227172, '12.0%'),\n",
              "  Text(-0.34025970233485286, -0.4941895739157164, '10.3%'),\n",
              "  Text(-0.006806608181002774, -0.5999613904953137, '8.5%'),\n",
              "  Text(0.2785574992809666, -0.5314185916905187, '7.2%'),\n",
              "  Text(0.4416582693193659, -0.4061255632705511, '3.7%'),\n",
              "  Text(0.5204081780341666, -0.29862238401559776, '3.3%'),\n",
              "  Text(0.5650963417855474, -0.2016584352329249, '2.3%'),\n",
              "  Text(0.5879846342336548, -0.11947413906413062, '2.2%'),\n",
              "  Text(0.5987104585440534, -0.039316495647110754, '2.1%')])"
            ]
          },
          "metadata": {},
          "execution_count": 24
        },
        {
          "output_type": "display_data",
          "data": {
            "text/plain": [
              "<Figure size 576x576 with 1 Axes>"
            ],
            "image/png": "[encoded data removed]"
          },
          "metadata": {}
        }
      ]
    },
    {
      "cell_type": "markdown",
      "source": [
        "inference: hotels have most visitors from PRT country . "
      ],
      "metadata": {
        "id": "DeAe-dK9EwjU"
      }
    },
    {
      "cell_type": "markdown",
      "source": [
        "## **[2] No of days between the booking and arrival?**"
      ],
      "metadata": {
        "id": "mXNwX6mDvUxB"
      }
    },
    {
      "cell_type": "code",
      "source": [
        "a=df['lead_time'].value_counts()\n",
        "a\n",
        "plt.figure(figsize=(5,6))\n",
        "sns.distplot(a)"
      ],
      "metadata": {
        "id": "HuNuZfp7wpFc",
        "colab": {
          "base_uri": "https://localhost:8080/",
          "height": 461
        },
        "outputId": "2fa5785a-2748-46af-902d-5473a41b3713"
      },
      "execution_count": 25,
      "outputs": [
        {
          "output_type": "stream",
          "name": "stderr",
          "text": [
            "/usr/local/lib/python3.7/dist-packages/seaborn/distributions.py:2619: FutureWarning: `distplot` is a deprecated function and will be removed in a future version. Please adapt your code to use either `displot` (a figure-level function with similar flexibility) or `histplot` (an axes-level function for histograms).\n",
            "  warnings.warn(msg, FutureWarning)\n"
          ]
        },
        {
          "output_type": "execute_result",
          "data": {
            "text/plain": [
              "<matplotlib.axes._subplots.AxesSubplot at 0x7f203b0ea390>"
            ]
          },
          "metadata": {},
          "execution_count": 25
        },
        {
          "output_type": "display_data",
          "data": {
            "text/plain": [
              "<Figure size 360x432 with 1 Axes>"
            ],
            "image/png": "[encoded data removed]"
          },
          "metadata": {
            "needs_background": "light"
          }
        }
      ]
    },
    {
      "cell_type": "markdown",
      "source": [
        "inference: max time and min taken by people from the date of booking to arrival time can be seen from above graph ."
      ],
      "metadata": {
        "id": "823UwfzZGFfo"
      }
    },
    {
      "cell_type": "markdown",
      "source": [
        "## **[3] which types of rooms are mostly booked?**"
      ],
      "metadata": {
        "id": "Y88DcpJxwNtk"
      }
    },
    {
      "cell_type": "code",
      "source": [
        "\n",
        "plt.figure(figsize=(10,6))\n",
        "df['reserved_room_type'].value_counts()\n",
        "sns.countplot(x='reserved_room_type',data=df)\n",
        "\n",
        "plt.show()"
      ],
      "metadata": {
        "id": "Ik2PsTHfBWEl",
        "colab": {
          "base_uri": "https://localhost:8080/",
          "height": 389
        },
        "outputId": "860c2a21-26a7-4358-fbab-70605fdf66df"
      },
      "execution_count": 26,
      "outputs": [
        {
          "output_type": "display_data",
          "data": {
            "text/plain": [
              "<Figure size 720x432 with 1 Axes>"
            ],
            "image/png": "[encoded data removed]"
          },
          "metadata": {
            "needs_background": "light"
          }
        }
      ]
    },
    {
      "cell_type": "markdown",
      "source": [
        "inference : type A room are most preffered type by visitors to stay."
      ],
      "metadata": {
        "id": "yw1wbbtMKmHZ"
      }
    },
    {
      "cell_type": "markdown",
      "source": [
        "### **[4]  Hotels bookings according to market segments?**\n"
      ],
      "metadata": {
        "id": "2xihsawJxJ21"
      }
    },
    {
      "cell_type": "code",
      "source": [
        "df['distribution_channel'].value_counts()"
      ],
      "metadata": {
        "id": "9c3p_0piDzB-",
        "colab": {
          "base_uri": "https://localhost:8080/"
        },
        "outputId": "3e0bc9b0-8a86-4f07-f344-2195efca76ba"
      },
      "execution_count": 27,
      "outputs": [
        {
          "output_type": "execute_result",
          "data": {
            "text/plain": [
              "TA/TO        97870\n",
              "Direct       14645\n",
              "Corporate     6677\n",
              "GDS            193\n",
              "Undefined        5\n",
              "Name: distribution_channel, dtype: int64"
            ]
          },
          "metadata": {},
          "execution_count": 27
        }
      ]
    },
    {
      "cell_type": "code",
      "source": [
        "marketseg=df.groupby(['hotel','market_segment']).size().unstack()\n",
        "marketseg.plot(kind='bar',figsize=(10,6))"
      ],
      "metadata": {
        "id": "W3RuNpO8umEh",
        "colab": {
          "base_uri": "https://localhost:8080/",
          "height": 456
        },
        "outputId": "3a7b64cd-ee7b-4a77-d64e-7a6749496a5c"
      },
      "execution_count": 28,
      "outputs": [
        {
          "output_type": "execute_result",
          "data": {
            "text/plain": [
              "<matplotlib.axes._subplots.AxesSubplot at 0x7f203aed1210>"
            ]
          },
          "metadata": {},
          "execution_count": 28
        },
        {
          "output_type": "display_data",
          "data": {
            "text/plain": [
              "<Figure size 720x432 with 1 Axes>"
            ],
            "image/png": "[encoded data removed]"
          },
          "metadata": {
            "needs_background": "light"
          }
        }
      ]
    },
    {
      "cell_type": "markdown",
      "source": [
        "inference: city hotels are mostly booked through onlin TA (travel agents) and offline travel agents."
      ],
      "metadata": {
        "id": "bYXHD3FeJmYh"
      }
    },
    {
      "cell_type": "markdown",
      "source": [
        "### **[5] Most no of days in waiting list for different market segments?**"
      ],
      "metadata": {
        "id": "LN21WYOGydfn"
      }
    },
    {
      "cell_type": "code",
      "source": [
        "fig,b=plt.subplots(figsize=(10,6))#here waiting list for aviation type is very less\n",
        "b.scatter(df['market_segment'],df['days_in_waiting_list'])\n",
        "b.set_xlabel(('market_segment').upper())\n",
        "b.set_ylabel(('days_in_waiting_list').upper())\n",
        "plt.show()"
      ],
      "metadata": {
        "id": "D1osLwgUfiIz",
        "colab": {
          "base_uri": "https://localhost:8080/",
          "height": 389
        },
        "outputId": "8dae9e44-3f39-49e1-d4ca-3f156e0e9609"
      },
      "execution_count": 29,
      "outputs": [
        {
          "output_type": "display_data",
          "data": {
            "text/plain": [
              "<Figure size 720x432 with 1 Axes>"
            ],
            "image/png": "[encoded data removed]"
          },
          "metadata": {
            "needs_background": "light"
          }
        }
      ]
    },
    {
      "cell_type": "markdown",
      "source": [
        "inference: it can be clearly seen aviation segments have very less waiting time, offline TA/TO market segments and groups market segments have more waiting time."
      ],
      "metadata": {
        "id": "_KhtJ_eyHTgQ"
      }
    },
    {
      "cell_type": "markdown",
      "source": [
        "## **[6] Total no of children,adults and babies visited the hotel?**"
      ],
      "metadata": {
        "id": "frNXHx9tzwBK"
      }
    },
    {
      "cell_type": "code",
      "source": [
        "#total no of children,adults and babies visited the hotel.  \n",
        "\n",
        "df[['adults','children','babies']].sum()\n"
      ],
      "metadata": {
        "id": "JtrNrURlEouW",
        "colab": {
          "base_uri": "https://localhost:8080/"
        },
        "outputId": "6179fad7-377c-4b23-e8b4-ccad60c2cf29"
      },
      "execution_count": 30,
      "outputs": [
        {
          "output_type": "execute_result",
          "data": {
            "text/plain": [
              "adults      221636.0\n",
              "children     12403.0\n",
              "babies         949.0\n",
              "dtype: float64"
            ]
          },
          "metadata": {},
          "execution_count": 30
        }
      ]
    },
    {
      "cell_type": "code",
      "source": [
        "plt.figure(figsize=(5,5))\n",
        "plt.bar(list(df[['adults','children','babies']].sum().keys()),list(df[['adults','children','babies']].value_counts()[0:3]),color=['green','brown','grey'])\n",
        "plt.show()"
      ],
      "metadata": {
        "id": "pkGZ_4vQNyIN",
        "colab": {
          "base_uri": "https://localhost:8080/",
          "height": 320
        },
        "outputId": "b519841a-be78-44da-8bfd-8c5d03261e5a"
      },
      "execution_count": 31,
      "outputs": [
        {
          "output_type": "display_data",
          "data": {
            "text/plain": [
              "<Figure size 360x360 with 1 Axes>"
            ],
            "image/png": "[encoded data removed]"
          },
          "metadata": {
            "needs_background": "light"
          }
        }
      ]
    },
    {
      "cell_type": "code",
      "source": [
        "df['no_of_people']=df['adults']+df['children']+df['babies']#here new column added of total no's of people.\n",
        "df"
      ],
      "metadata": {
        "id": "7XDl35RQIZLU",
        "colab": {
          "base_uri": "https://localhost:8080/",
          "height": 661
        },
        "outputId": "8dae2c86-73d3-468c-90d8-3fcd7c2f3632"
      },
      "execution_count": 32,
      "outputs": [
        {
          "output_type": "execute_result",
          "data": {
            "text/plain": [
              "               hotel  is_canceled  lead_time  arrival_date_year  \\\n",
              "0       Resort Hotel            0        342               2015   \n",
              "1       Resort Hotel            0        737               2015   \n",
              "2       Resort Hotel            0          7               2015   \n",
              "3       Resort Hotel            0         13               2015   \n",
              "4       Resort Hotel            0         14               2015   \n",
              "...              ...          ...        ...                ...   \n",
              "119385    City Hotel            0         23               2017   \n",
              "119386    City Hotel            0        102               2017   \n",
              "119387    City Hotel            0         34               2017   \n",
              "119388    City Hotel            0        109               2017   \n",
              "119389    City Hotel            0        205               2017   \n",
              "\n",
              "       arrival_date_month  arrival_date_week_number  \\\n",
              "0                    July                        27   \n",
              "1                    July                        27   \n",
              "2                    July                        27   \n",
              "3                    July                        27   \n",
              "4                    July                        27   \n",
              "...                   ...                       ...   \n",
              "119385             August                        35   \n",
              "119386             August                        35   \n",
              "119387             August                        35   \n",
              "119388             August                        35   \n",
              "119389             August                        35   \n",
              "\n",
              "        arrival_date_day_of_month  stays_in_weekend_nights  \\\n",
              "0                               1                        0   \n",
              "1                               1                        0   \n",
              "2                               1                        0   \n",
              "3                               1                        0   \n",
              "4                               1                        0   \n",
              "...                           ...                      ...   \n",
              "119385                         30                        2   \n",
              "119386                         31                        2   \n",
              "119387                         31                        2   \n",
              "119388                         31                        2   \n",
              "119389                         29                        2   \n",
              "\n",
              "        stays_in_week_nights  adults  ...  agent  company  \\\n",
              "0                          0       2  ...    0.0      0.0   \n",
              "1                          0       2  ...    0.0      0.0   \n",
              "2                          1       1  ...    0.0      0.0   \n",
              "3                          1       1  ...  304.0      0.0   \n",
              "4                          2       2  ...  240.0      0.0   \n",
              "...                      ...     ...  ...    ...      ...   \n",
              "119385                     5       2  ...  394.0      0.0   \n",
              "119386                     5       3  ...    9.0      0.0   \n",
              "119387                     5       2  ...    9.0      0.0   \n",
              "119388                     5       2  ...   89.0      0.0   \n",
              "119389                     7       2  ...    9.0      0.0   \n",
              "\n",
              "       days_in_waiting_list customer_type     adr required_car_parking_spaces  \\\n",
              "0                         0     Transient    0.00                           0   \n",
              "1                         0     Transient    0.00                           0   \n",
              "2                         0     Transient   75.00                           0   \n",
              "3                         0     Transient   75.00                           0   \n",
              "4                         0     Transient   98.00                           0   \n",
              "...                     ...           ...     ...                         ...   \n",
              "119385                    0     Transient   96.14                           0   \n",
              "119386                    0     Transient  225.43                           0   \n",
              "119387                    0     Transient  157.71                           0   \n",
              "119388                    0     Transient  104.40                           0   \n",
              "119389                    0     Transient  151.20                           0   \n",
              "\n",
              "        total_of_special_requests  reservation_status  \\\n",
              "0                               0           Check-Out   \n",
              "1                               0           Check-Out   \n",
              "2                               0           Check-Out   \n",
              "3                               0           Check-Out   \n",
              "4                               1           Check-Out   \n",
              "...                           ...                 ...   \n",
              "119385                          0           Check-Out   \n",
              "119386                          2           Check-Out   \n",
              "119387                          4           Check-Out   \n",
              "119388                          0           Check-Out   \n",
              "119389                          2           Check-Out   \n",
              "\n",
              "        reservation_status_date no_of_people  \n",
              "0                    2015-07-01          2.0  \n",
              "1                    2015-07-01          2.0  \n",
              "2                    2015-07-02          1.0  \n",
              "3                    2015-07-02          1.0  \n",
              "4                    2015-07-03          2.0  \n",
              "...                         ...          ...  \n",
              "119385               2017-09-06          2.0  \n",
              "119386               2017-09-07          3.0  \n",
              "119387               2017-09-07          2.0  \n",
              "119388               2017-09-07          2.0  \n",
              "119389               2017-09-07          2.0  \n",
              "\n",
              "[119390 rows x 33 columns]"
            ],
            "text/html": [
              "\n",
              "  <div id=\"df-12aa912b-c921-4a99-aa5a-eb926393b4ba\">\n",
              "    <div class=\"colab-df-container\">\n",
              "      <div>\n",
              "<style scoped>\n",
              "    .dataframe tbody tr th:only-of-type {\n",
              "        vertical-align: middle;\n",
              "    }\n",
              "\n",
              "    .dataframe tbody tr th {\n",
              "        vertical-align: top;\n",
              "    }\n",
              "\n",
              "    .dataframe thead th {\n",
              "        text-align: right;\n",
              "    }\n",
              "</style>\n",
              "<table border=\"1\" class=\"dataframe\">\n",
              "  <thead>\n",
              "    <tr style=\"text-align: right;\">\n",
              "      <th></th>\n",
              "      <th>hotel</th>\n",
              "      <th>is_canceled</th>\n",
              "      <th>lead_time</th>\n",
              "      <th>arrival_date_year</th>\n",
              "      <th>arrival_date_month</th>\n",
              "      <th>arrival_date_week_number</th>\n",
              "      <th>arrival_date_day_of_month</th>\n",
              "      <th>stays_in_weekend_nights</th>\n",
              "      <th>stays_in_week_nights</th>\n",
              "      <th>adults</th>\n",
              "      <th>...</th>\n",
              "      <th>agent</th>\n",
              "      <th>company</th>\n",
              "      <th>days_in_waiting_list</th>\n",
              "      <th>customer_type</th>\n",
              "      <th>adr</th>\n",
              "      <th>required_car_parking_spaces</th>\n",
              "      <th>total_of_special_requests</th>\n",
              "      <th>reservation_status</th>\n",
              "      <th>reservation_status_date</th>\n",
              "      <th>no_of_people</th>\n",
              "    </tr>\n",
              "  </thead>\n",
              "  <tbody>\n",
              "    <tr>\n",
              "      <th>0</th>\n",
              "      <td>Resort Hotel</td>\n",
              "      <td>0</td>\n",
              "      <td>342</td>\n",
              "      <td>2015</td>\n",
              "      <td>July</td>\n",
              "      <td>27</td>\n",
              "      <td>1</td>\n",
              "      <td>0</td>\n",
              "      <td>0</td>\n",
              "      <td>2</td>\n",
              "      <td>...</td>\n",
              "      <td>0.0</td>\n",
              "      <td>0.0</td>\n",
              "      <td>0</td>\n",
              "      <td>Transient</td>\n",
              "      <td>0.00</td>\n",
              "      <td>0</td>\n",
              "      <td>0</td>\n",
              "      <td>Check-Out</td>\n",
              "      <td>2015-07-01</td>\n",
              "      <td>2.0</td>\n",
              "    </tr>\n",
              "    <tr>\n",
              "      <th>1</th>\n",
              "      <td>Resort Hotel</td>\n",
              "      <td>0</td>\n",
              "      <td>737</td>\n",
              "      <td>2015</td>\n",
              "      <td>July</td>\n",
              "      <td>27</td>\n",
              "      <td>1</td>\n",
              "      <td>0</td>\n",
              "      <td>0</td>\n",
              "      <td>2</td>\n",
              "      <td>...</td>\n",
              "      <td>0.0</td>\n",
              "      <td>0.0</td>\n",
              "      <td>0</td>\n",
              "      <td>Transient</td>\n",
              "      <td>0.00</td>\n",
              "      <td>0</td>\n",
              "      <td>0</td>\n",
              "      <td>Check-Out</td>\n",
              "      <td>2015-07-01</td>\n",
              "      <td>2.0</td>\n",
              "    </tr>\n",
              "    <tr>\n",
              "      <th>2</th>\n",
              "      <td>Resort Hotel</td>\n",
              "      <td>0</td>\n",
              "      <td>7</td>\n",
              "      <td>2015</td>\n",
              "      <td>July</td>\n",
              "      <td>27</td>\n",
              "      <td>1</td>\n",
              "      <td>0</td>\n",
              "      <td>1</td>\n",
              "      <td>1</td>\n",
              "      <td>...</td>\n",
              "      <td>0.0</td>\n",
              "      <td>0.0</td>\n",
              "      <td>0</td>\n",
              "      <td>Transient</td>\n",
              "      <td>75.00</td>\n",
              "      <td>0</td>\n",
              "      <td>0</td>\n",
              "      <td>Check-Out</td>\n",
              "      <td>2015-07-02</td>\n",
              "      <td>1.0</td>\n",
              "    </tr>\n",
              "    <tr>\n",
              "      <th>3</th>\n",
              "      <td>Resort Hotel</td>\n",
              "      <td>0</td>\n",
              "      <td>13</td>\n",
              "      <td>2015</td>\n",
              "      <td>July</td>\n",
              "      <td>27</td>\n",
              "      <td>1</td>\n",
              "      <td>0</td>\n",
              "      <td>1</td>\n",
              "      <td>1</td>\n",
              "      <td>...</td>\n",
              "      <td>304.0</td>\n",
              "      <td>0.0</td>\n",
              "      <td>0</td>\n",
              "      <td>Transient</td>\n",
              "      <td>75.00</td>\n",
              "      <td>0</td>\n",
              "      <td>0</td>\n",
              "      <td>Check-Out</td>\n",
              "      <td>2015-07-02</td>\n",
              "      <td>1.0</td>\n",
              "    </tr>\n",
              "    <tr>\n",
              "      <th>4</th>\n",
              "      <td>Resort Hotel</td>\n",
              "      <td>0</td>\n",
              "      <td>14</td>\n",
              "      <td>2015</td>\n",
              "      <td>July</td>\n",
              "      <td>27</td>\n",
              "      <td>1</td>\n",
              "      <td>0</td>\n",
              "      <td>2</td>\n",
              "      <td>2</td>\n",
              "      <td>...</td>\n",
              "      <td>240.0</td>\n",
              "      <td>0.0</td>\n",
              "      <td>0</td>\n",
              "      <td>Transient</td>\n",
              "      <td>98.00</td>\n",
              "      <td>0</td>\n",
              "      <td>1</td>\n",
              "      <td>Check-Out</td>\n",
              "      <td>2015-07-03</td>\n",
              "      <td>2.0</td>\n",
              "    </tr>\n",
              "    <tr>\n",
              "      <th>...</th>\n",
              "      <td>...</td>\n",
              "      <td>...</td>\n",
              "      <td>...</td>\n",
              "      <td>...</td>\n",
              "      <td>...</td>\n",
              "      <td>...</td>\n",
              "      <td>...</td>\n",
              "      <td>...</td>\n",
              "      <td>...</td>\n",
              "      <td>...</td>\n",
              "      <td>...</td>\n",
              "      <td>...</td>\n",
              "      <td>...</td>\n",
              "      <td>...</td>\n",
              "      <td>...</td>\n",
              "      <td>...</td>\n",
              "      <td>...</td>\n",
              "      <td>...</td>\n",
              "      <td>...</td>\n",
              "      <td>...</td>\n",
              "      <td>...</td>\n",
              "    </tr>\n",
              "    <tr>\n",
              "      <th>119385</th>\n",
              "      <td>City Hotel</td>\n",
              "      <td>0</td>\n",
              "      <td>23</td>\n",
              "      <td>2017</td>\n",
              "      <td>August</td>\n",
              "      <td>35</td>\n",
              "      <td>30</td>\n",
              "      <td>2</td>\n",
              "      <td>5</td>\n",
              "      <td>2</td>\n",
              "      <td>...</td>\n",
              "      <td>394.0</td>\n",
              "      <td>0.0</td>\n",
              "      <td>0</td>\n",
              "      <td>Transient</td>\n",
              "      <td>96.14</td>\n",
              "      <td>0</td>\n",
              "      <td>0</td>\n",
              "      <td>Check-Out</td>\n",
              "      <td>2017-09-06</td>\n",
              "      <td>2.0</td>\n",
              "    </tr>\n",
              "    <tr>\n",
              "      <th>119386</th>\n",
              "      <td>City Hotel</td>\n",
              "      <td>0</td>\n",
              "      <td>102</td>\n",
              "      <td>2017</td>\n",
              "      <td>August</td>\n",
              "      <td>35</td>\n",
              "      <td>31</td>\n",
              "      <td>2</td>\n",
              "      <td>5</td>\n",
              "      <td>3</td>\n",
              "      <td>...</td>\n",
              "      <td>9.0</td>\n",
              "      <td>0.0</td>\n",
              "      <td>0</td>\n",
              "      <td>Transient</td>\n",
              "      <td>225.43</td>\n",
              "      <td>0</td>\n",
              "      <td>2</td>\n",
              "      <td>Check-Out</td>\n",
              "      <td>2017-09-07</td>\n",
              "      <td>3.0</td>\n",
              "    </tr>\n",
              "    <tr>\n",
              "      <th>119387</th>\n",
              "      <td>City Hotel</td>\n",
              "      <td>0</td>\n",
              "      <td>34</td>\n",
              "      <td>2017</td>\n",
              "      <td>August</td>\n",
              "      <td>35</td>\n",
              "      <td>31</td>\n",
              "      <td>2</td>\n",
              "      <td>5</td>\n",
              "      <td>2</td>\n",
              "      <td>...</td>\n",
              "      <td>9.0</td>\n",
              "      <td>0.0</td>\n",
              "      <td>0</td>\n",
              "      <td>Transient</td>\n",
              "      <td>157.71</td>\n",
              "      <td>0</td>\n",
              "      <td>4</td>\n",
              "      <td>Check-Out</td>\n",
              "      <td>2017-09-07</td>\n",
              "      <td>2.0</td>\n",
              "    </tr>\n",
              "    <tr>\n",
              "      <th>119388</th>\n",
              "      <td>City Hotel</td>\n",
              "      <td>0</td>\n",
              "      <td>109</td>\n",
              "      <td>2017</td>\n",
              "      <td>August</td>\n",
              "      <td>35</td>\n",
              "      <td>31</td>\n",
              "      <td>2</td>\n",
              "      <td>5</td>\n",
              "      <td>2</td>\n",
              "      <td>...</td>\n",
              "      <td>89.0</td>\n",
              "      <td>0.0</td>\n",
              "      <td>0</td>\n",
              "      <td>Transient</td>\n",
              "      <td>104.40</td>\n",
              "      <td>0</td>\n",
              "      <td>0</td>\n",
              "      <td>Check-Out</td>\n",
              "      <td>2017-09-07</td>\n",
              "      <td>2.0</td>\n",
              "    </tr>\n",
              "    <tr>\n",
              "      <th>119389</th>\n",
              "      <td>City Hotel</td>\n",
              "      <td>0</td>\n",
              "      <td>205</td>\n",
              "      <td>2017</td>\n",
              "      <td>August</td>\n",
              "      <td>35</td>\n",
              "      <td>29</td>\n",
              "      <td>2</td>\n",
              "      <td>7</td>\n",
              "      <td>2</td>\n",
              "      <td>...</td>\n",
              "      <td>9.0</td>\n",
              "      <td>0.0</td>\n",
              "      <td>0</td>\n",
              "      <td>Transient</td>\n",
              "      <td>151.20</td>\n",
              "      <td>0</td>\n",
              "      <td>2</td>\n",
              "      <td>Check-Out</td>\n",
              "      <td>2017-09-07</td>\n",
              "      <td>2.0</td>\n",
              "    </tr>\n",
              "  </tbody>\n",
              "</table>\n",
              "<p>119390 rows × 33 columns</p>\n",
              "</div>\n",
              "      <button class=\"colab-df-convert\" onclick=\"convertToInteractive('df-12aa912b-c921-4a99-aa5a-eb926393b4ba')\"\n",
              "              title=\"Convert this dataframe to an interactive table.\"\n",
              "              style=\"display:none;\">\n",
              "        \n",
              "  <svg xmlns=\"http://www.w3.org/2000/svg\" height=\"24px\"viewBox=\"0 0 24 24\"\n",
              "       width=\"24px\">\n",
              "    <path d=\"M0 0h24v24H0V0z\" fill=\"none\"/>\n",
              "    <path d=\"M18.56 5.44l.94 2.06.94-2.06 2.06-.94-2.06-.94-.94-2.06-.94 2.06-2.06.94zm-11 1L8.5 8.5l.94-2.06 2.06-.94-2.06-.94L8.5 2.5l-.94 2.06-2.06.94zm10 10l.94 2.06.94-2.06 2.06-.94-2.06-.94-.94-2.06-.94 2.06-2.06.94z\"/><path d=\"M17.41 7.96l-1.37-1.37c-.4-.4-.92-.59-1.43-.59-.52 0-1.04.2-1.43.59L10.3 9.45l-7.72 7.72c-.78.78-.78 2.05 0 2.83L4 21.41c.39.39.9.59 1.41.59.51 0 1.02-.2 1.41-.59l7.78-7.78 2.81-2.81c.8-.78.8-2.07 0-2.86zM5.41 20L4 18.59l7.72-7.72 1.47 1.35L5.41 20z\"/>\n",
              "  </svg>\n",
              "      </button>\n",
              "      \n",
              "  <style>\n",
              "    .colab-df-container {\n",
              "      display:flex;\n",
              "      flex-wrap:wrap;\n",
              "      gap: 12px;\n",
              "    }\n",
              "\n",
              "    .colab-df-convert {\n",
              "      background-color: #E8F0FE;\n",
              "      border: none;\n",
              "      border-radius: 50%;\n",
              "      cursor: pointer;\n",
              "      display: none;\n",
              "      fill: #1967D2;\n",
              "      height: 32px;\n",
              "      padding: 0 0 0 0;\n",
              "      width: 32px;\n",
              "    }\n",
              "\n",
              "    .colab-df-convert:hover {\n",
              "      background-color: #E2EBFA;\n",
              "      box-shadow: 0px 1px 2px rgba(60, 64, 67, 0.3), 0px 1px 3px 1px rgba(60, 64, 67, 0.15);\n",
              "      fill: #174EA6;\n",
              "    }\n",
              "\n",
              "    [theme=dark] .colab-df-convert {\n",
              "      background-color: #3B4455;\n",
              "      fill: #D2E3FC;\n",
              "    }\n",
              "\n",
              "    [theme=dark] .colab-df-convert:hover {\n",
              "      background-color: #434B5C;\n",
              "      box-shadow: 0px 1px 3px 1px rgba(0, 0, 0, 0.15);\n",
              "      filter: drop-shadow(0px 1px 2px rgba(0, 0, 0, 0.3));\n",
              "      fill: #FFFFFF;\n",
              "    }\n",
              "  </style>\n",
              "\n",
              "      <script>\n",
              "        const buttonEl =\n",
              "          document.querySelector('#df-12aa912b-c921-4a99-aa5a-eb926393b4ba button.colab-df-convert');\n",
              "        buttonEl.style.display =\n",
              "          google.colab.kernel.accessAllowed ? 'block' : 'none';\n",
              "\n",
              "        async function convertToInteractive(key) {\n",
              "          const element = document.querySelector('#df-12aa912b-c921-4a99-aa5a-eb926393b4ba');\n",
              "          const dataTable =\n",
              "            await google.colab.kernel.invokeFunction('convertToInteractive',\n",
              "                                                     [key], {});\n",
              "          if (!dataTable) return;\n",
              "\n",
              "          const docLinkHtml = 'Like what you see? Visit the ' +\n",
              "            '<a target=\"_blank\" href=https://colab.research.google.com/notebooks/data_table.ipynb>data table notebook</a>'\n",
              "            + ' to learn more about interactive tables.';\n",
              "          element.innerHTML = '';\n",
              "          dataTable['output_type'] = 'display_data';\n",
              "          await google.colab.output.renderOutput(dataTable, element);\n",
              "          const docLink = document.createElement('div');\n",
              "          docLink.innerHTML = docLinkHtml;\n",
              "          element.appendChild(docLink);\n",
              "        }\n",
              "      </script>\n",
              "    </div>\n",
              "  </div>\n",
              "  "
            ]
          },
          "metadata": {},
          "execution_count": 32
        }
      ]
    },
    {
      "cell_type": "markdown",
      "source": [
        "inference: adults are mostly visited the hotel,adults :     221636.0,children :    12403.0, babies   :      949.0"
      ],
      "metadata": {
        "id": "NcvrGvY7B95C"
      }
    },
    {
      "cell_type": "markdown",
      "source": [
        "### **[7]   Avg charges per night in different months.**"
      ],
      "metadata": {
        "id": "rYq9VG-UVgNM"
      }
    },
    {
      "cell_type": "code",
      "source": [
        "df['charges_per_member_night']=df['adr']/df['no_of_people']#\n",
        "\n",
        "df.drop(df[((df['children']==0)&(df['babies']==0)&(df['adults']==0))].index,inplace=True)\n",
        "o=df.groupby('arrival_date_month')['charges_per_member_night'].mean()\n",
        "o"
      ],
      "metadata": {
        "id": "nN5EY-et4Q_w",
        "colab": {
          "base_uri": "https://localhost:8080/"
        },
        "outputId": "2222b276-a6c3-4f34-bde3-d979c68b91ec"
      },
      "execution_count": 33,
      "outputs": [
        {
          "output_type": "execute_result",
          "data": {
            "text/plain": [
              "arrival_date_month\n",
              "April        53.468996\n",
              "August       65.623511\n",
              "December     44.051358\n",
              "February     41.869291\n",
              "January      43.407665\n",
              "July         60.843493\n",
              "June         64.369229\n",
              "March        45.891752\n",
              "May          62.252077\n",
              "November     47.076159\n",
              "October      51.260244\n",
              "September    58.748328\n",
              "Name: charges_per_member_night, dtype: float64"
            ]
          },
          "metadata": {},
          "execution_count": 33
        }
      ]
    },
    {
      "cell_type": "code",
      "source": [
        "\n",
        "sns.jointplot(x='arrival_date_month',y='charges_per_member_night',data=df)\n",
        "\n",
        "plt.figure(figsize=(25,9))\n",
        "plt.show()"
      ],
      "metadata": {
        "id": "F5FmBfq63E_e",
        "colab": {
          "base_uri": "https://localhost:8080/",
          "height": 458
        },
        "outputId": "28379c93-acb5-458e-b11a-1f6de8473031"
      },
      "execution_count": 34,
      "outputs": [
        {
          "output_type": "display_data",
          "data": {
            "text/plain": [
              "<Figure size 432x432 with 3 Axes>"
            ],
            "image/png": "[encoded data removed]"
          },
          "metadata": {
            "needs_background": "light"
          }
        },
        {
          "output_type": "display_data",
          "data": {
            "text/plain": [
              "<Figure size 1800x648 with 0 Axes>"
            ]
          },
          "metadata": {}
        }
      ]
    },
    {
      "cell_type": "markdown",
      "source": [
        "### **[8] hotels with the highest booking in months?**"
      ],
      "metadata": {
        "id": "AibaitL11c29"
      }
    },
    {
      "cell_type": "code",
      "source": [
        "df.groupby('arrival_date_month')['no_of_people'].value_counts()"
      ],
      "metadata": {
        "id": "PcnnKHHiV1Q6",
        "colab": {
          "base_uri": "https://localhost:8080/"
        },
        "outputId": "78d8e470-3679-4631-b256-cbea5e1c8479"
      },
      "execution_count": 35,
      "outputs": [
        {
          "output_type": "execute_result",
          "data": {
            "text/plain": [
              "arrival_date_month  no_of_people\n",
              "April               2.0             7865\n",
              "                    1.0             1880\n",
              "                    3.0              953\n",
              "                    4.0              369\n",
              "                    5.0               11\n",
              "                                    ... \n",
              "September           26.0               4\n",
              "                    27.0               2\n",
              "                    5.0                1\n",
              "                    40.0               1\n",
              "                    50.0               1\n",
              "Name: no_of_people, Length: 71, dtype: int64"
            ]
          },
          "metadata": {},
          "execution_count": 35
        }
      ]
    },
    {
      "cell_type": "code",
      "source": [
        "sns.heatmap(pd.crosstab(df.arrival_date_month,df.hotel),cmap='Greys')"
      ],
      "metadata": {
        "id": "jBYauA11nyzC",
        "colab": {
          "base_uri": "https://localhost:8080/",
          "height": 296
        },
        "outputId": "1db0fad0-7ab9-4d9e-edb4-8e928e22dcc8"
      },
      "execution_count": 36,
      "outputs": [
        {
          "output_type": "execute_result",
          "data": {
            "text/plain": [
              "<matplotlib.axes._subplots.AxesSubplot at 0x7f20384f2e90>"
            ]
          },
          "metadata": {},
          "execution_count": 36
        },
        {
          "output_type": "display_data",
          "data": {
            "text/plain": [
              "<Figure size 432x288 with 2 Axes>"
            ],
            "image/png": "[encoded data removed]"
          },
          "metadata": {
            "needs_background": "light"
          }
        }
      ]
    },
    {
      "cell_type": "code",
      "source": [
        "\n",
        "g=df.groupby(['arrival_date_month','hotel']).size().unstack()#Most no of booking inthe month of august ,city hotel is most prefered\n",
        "\n",
        "g.plot(kind='bar')\n"
      ],
      "metadata": {
        "id": "GoZbDLDkp2Ot",
        "colab": {
          "base_uri": "https://localhost:8080/",
          "height": 342
        },
        "outputId": "1cd95869-c3d5-4bf5-f485-99cfa3740c2d"
      },
      "execution_count": 37,
      "outputs": [
        {
          "output_type": "execute_result",
          "data": {
            "text/plain": [
              "<matplotlib.axes._subplots.AxesSubplot at 0x7f2036b5cf10>"
            ]
          },
          "metadata": {},
          "execution_count": 37
        },
        {
          "output_type": "display_data",
          "data": {
            "text/plain": [
              "<Figure size 432x288 with 1 Axes>"
            ],
            "image/png": "[encoded data removed]"
          },
          "metadata": {
            "needs_background": "light"
          }
        }
      ]
    },
    {
      "cell_type": "markdown",
      "source": [
        "inference: As compared to resort hotels city hotels are more booked in months (may,june,september,october) also hotels have fewer guest in the months of dec,feb,jan\n",
        "\n",
        "\n",
        "\n"
      ],
      "metadata": {
        "id": "tYvEUcGo_1uW"
      }
    },
    {
      "cell_type": "markdown",
      "source": [
        "### **[9]  hotel rates in different months.**"
      ],
      "metadata": {
        "id": "2zysxWCqSu2y"
      }
    },
    {
      "cell_type": "code",
      "source": [
        "#this is a lineplot of the adr for different hotel types\n",
        "plt.figure(figsize=(12,6))\n",
        "sns.lineplot(x='arrival_date_month', y='adr', hue='hotel', data= df)\n",
        "plt.show()"
      ],
      "metadata": {
        "id": "Fj32tRCCR0tu",
        "colab": {
          "base_uri": "https://localhost:8080/",
          "height": 389
        },
        "outputId": "8ded0479-bcc4-48a2-a990-e2fa9cc6eff1"
      },
      "execution_count": 38,
      "outputs": [
        {
          "output_type": "display_data",
          "data": {
            "text/plain": [
              "<Figure size 864x432 with 1 Axes>"
            ],
            "image/png": "[encoded data removed]"
          },
          "metadata": {
            "needs_background": "light"
          }
        }
      ]
    },
    {
      "cell_type": "markdown",
      "source": [
        "inference: city hotel rate are cheaper in months of november to february\n",
        "resort hotel rate are higher in months of july and august.  adr=average daily rates"
      ],
      "metadata": {
        "id": "xk8Gi_GmTENL"
      }
    },
    {
      "cell_type": "markdown",
      "source": [
        "### **[10] heatmap for the entire dataset.** "
      ],
      "metadata": {
        "id": "2e7-XpIE2iLz"
      }
    },
    {
      "cell_type": "code",
      "source": [
        "plt.figure(figsize=(20,10))\n",
        "d=df.corr()\n",
        "sns.heatmap(d,cmap='icefire_r',annot=True)\n",
        "d"
      ],
      "metadata": {
        "id": "KQ-d6ZBN2pEi",
        "colab": {
          "base_uri": "https://localhost:8080/",
          "height": 1000
        },
        "outputId": "bf3cf2c2-6d22-43b1-861d-f212f3cb4934"
      },
      "execution_count": 39,
      "outputs": [
        {
          "output_type": "execute_result",
          "data": {
            "text/plain": [
              "                                is_canceled  lead_time  arrival_date_year  \\\n",
              "is_canceled                        1.000000   0.292876           0.016622   \n",
              "lead_time                          0.292876   1.000000           0.040334   \n",
              "arrival_date_year                  0.016622   0.040334           1.000000   \n",
              "arrival_date_week_number           0.008315   0.127046          -0.540373   \n",
              "arrival_date_day_of_month         -0.005948   0.002306          -0.000121   \n",
              "stays_in_weekend_nights           -0.001323   0.085985           0.021694   \n",
              "stays_in_week_nights               0.025542   0.166892           0.031203   \n",
              "adults                             0.058182   0.117575           0.030266   \n",
              "children                           0.004851  -0.037878           0.054710   \n",
              "babies                            -0.032569  -0.021003          -0.013192   \n",
              "is_repeated_guest                 -0.083745  -0.123209           0.010281   \n",
              "previous_cancellations             0.110139   0.086025          -0.119905   \n",
              "previous_bookings_not_canceled    -0.057365  -0.073599           0.029234   \n",
              "booking_changes                   -0.144832   0.002230           0.031416   \n",
              "agent                             -0.046770  -0.013114           0.056438   \n",
              "company                           -0.083594  -0.085854           0.033682   \n",
              "days_in_waiting_list               0.054301   0.170008          -0.056348   \n",
              "adr                                0.046492  -0.065018           0.198429   \n",
              "required_car_parking_spaces       -0.195701  -0.116624          -0.013812   \n",
              "total_of_special_requests         -0.234877  -0.095949           0.108610   \n",
              "no_of_people                       0.044826   0.070210           0.052780   \n",
              "charges_per_member_night           0.019529  -0.126188           0.138801   \n",
              "\n",
              "                                arrival_date_week_number  \\\n",
              "is_canceled                                     0.008315   \n",
              "lead_time                                       0.127046   \n",
              "arrival_date_year                              -0.540373   \n",
              "arrival_date_week_number                        1.000000   \n",
              "arrival_date_day_of_month                       0.066572   \n",
              "stays_in_weekend_nights                         0.018629   \n",
              "stays_in_week_nights                            0.016047   \n",
              "adults                                          0.026567   \n",
              "children                                        0.005556   \n",
              "babies                                          0.010417   \n",
              "is_repeated_guest                              -0.031125   \n",
              "previous_cancellations                          0.035493   \n",
              "previous_bookings_not_canceled                 -0.021009   \n",
              "booking_changes                                 0.006311   \n",
              "agent                                          -0.018225   \n",
              "company                                        -0.032912   \n",
              "days_in_waiting_list                            0.022677   \n",
              "adr                                             0.076281   \n",
              "required_car_parking_spaces                     0.001980   \n",
              "total_of_special_requests                       0.026202   \n",
              "no_of_people                                    0.025752   \n",
              "charges_per_member_night                        0.053784   \n",
              "\n",
              "                                arrival_date_day_of_month  \\\n",
              "is_canceled                                     -0.005948   \n",
              "lead_time                                        0.002306   \n",
              "arrival_date_year                               -0.000121   \n",
              "arrival_date_week_number                         0.066572   \n",
              "arrival_date_day_of_month                        1.000000   \n",
              "stays_in_weekend_nights                         -0.016225   \n",
              "stays_in_week_nights                            -0.028362   \n",
              "adults                                          -0.001754   \n",
              "children                                         0.014550   \n",
              "babies                                          -0.000235   \n",
              "is_repeated_guest                               -0.006471   \n",
              "previous_cancellations                          -0.027027   \n",
              "previous_bookings_not_canceled                  -0.000306   \n",
              "booking_changes                                  0.011266   \n",
              "agent                                            0.000159   \n",
              "company                                          0.003667   \n",
              "days_in_waiting_list                             0.022532   \n",
              "adr                                              0.030291   \n",
              "required_car_parking_spaces                      0.008569   \n",
              "total_of_special_requests                        0.003026   \n",
              "no_of_people                                     0.006637   \n",
              "charges_per_member_night                         0.022844   \n",
              "\n",
              "                                stays_in_weekend_nights  stays_in_week_nights  \\\n",
              "is_canceled                                   -0.001323              0.025542   \n",
              "lead_time                                      0.085985              0.166892   \n",
              "arrival_date_year                              0.021694              0.031203   \n",
              "arrival_date_week_number                       0.018629              0.016047   \n",
              "arrival_date_day_of_month                     -0.016225             -0.028362   \n",
              "stays_in_weekend_nights                        1.000000              0.494175   \n",
              "stays_in_week_nights                           0.494175              1.000000   \n",
              "adults                                         0.094759              0.096214   \n",
              "children                                       0.046135              0.044652   \n",
              "babies                                         0.018607              0.020373   \n",
              "is_repeated_guest                             -0.086009             -0.095302   \n",
              "previous_cancellations                        -0.012769             -0.013976   \n",
              "previous_bookings_not_canceled                -0.042859             -0.048873   \n",
              "booking_changes                                0.050191              0.080018   \n",
              "agent                                          0.162411              0.196777   \n",
              "company                                       -0.080783             -0.044437   \n",
              "days_in_waiting_list                          -0.054399             -0.002026   \n",
              "adr                                            0.050670              0.066847   \n",
              "required_car_parking_spaces                   -0.018520             -0.024933   \n",
              "total_of_special_requests                      0.073124              0.068738   \n",
              "no_of_people                                   0.103938              0.104519   \n",
              "charges_per_member_night                      -0.041267             -0.029308   \n",
              "\n",
              "                                  adults  children    babies  ...  \\\n",
              "is_canceled                     0.058182  0.004851 -0.032569  ...   \n",
              "lead_time                       0.117575 -0.037878 -0.021003  ...   \n",
              "arrival_date_year               0.030266  0.054710 -0.013192  ...   \n",
              "arrival_date_week_number        0.026567  0.005556  0.010417  ...   \n",
              "arrival_date_day_of_month      -0.001754  0.014550 -0.000235  ...   \n",
              "stays_in_weekend_nights         0.094759  0.046135  0.018607  ...   \n",
              "stays_in_week_nights            0.096214  0.044652  0.020373  ...   \n",
              "adults                          1.000000  0.029409  0.017890  ...   \n",
              "children                        0.029409  1.000000  0.023999  ...   \n",
              "babies                          0.017890  0.023999  1.000000  ...   \n",
              "is_repeated_guest              -0.140973 -0.032475 -0.008813  ...   \n",
              "previous_cancellations         -0.007070 -0.024755 -0.007509  ...   \n",
              "previous_bookings_not_canceled -0.108856 -0.021078 -0.006552  ...   \n",
              "booking_changes                -0.041472  0.051000  0.085605  ...   \n",
              "agent                           0.023370  0.050461  0.030235  ...   \n",
              "company                        -0.166182 -0.042554 -0.009426  ...   \n",
              "days_in_waiting_list           -0.008365 -0.033293 -0.010627  ...   \n",
              "adr                             0.224253  0.325057  0.029043  ...   \n",
              "required_car_parking_spaces     0.014438  0.056247  0.037389  ...   \n",
              "total_of_special_requests       0.123353  0.081747  0.097939  ...   \n",
              "no_of_people                    0.818861  0.581591  0.163270  ...   \n",
              "charges_per_member_night       -0.320915 -0.078930 -0.051928  ...   \n",
              "\n",
              "                                previous_bookings_not_canceled  \\\n",
              "is_canceled                                          -0.057365   \n",
              "lead_time                                            -0.073599   \n",
              "arrival_date_year                                     0.029234   \n",
              "arrival_date_week_number                             -0.021009   \n",
              "arrival_date_day_of_month                            -0.000306   \n",
              "stays_in_weekend_nights                              -0.042859   \n",
              "stays_in_week_nights                                 -0.048873   \n",
              "adults                                               -0.108856   \n",
              "children                                             -0.021078   \n",
              "babies                                               -0.006552   \n",
              "is_repeated_guest                                     0.420642   \n",
              "previous_cancellations                                0.152570   \n",
              "previous_bookings_not_canceled                        1.000000   \n",
              "booking_changes                                       0.011963   \n",
              "agent                                                -0.046348   \n",
              "company                                               0.111220   \n",
              "days_in_waiting_list                                 -0.009416   \n",
              "adr                                                  -0.072335   \n",
              "required_car_parking_spaces                           0.047506   \n",
              "total_of_special_requests                             0.037775   \n",
              "no_of_people                                         -0.099680   \n",
              "charges_per_member_night                              0.001154   \n",
              "\n",
              "                                booking_changes     agent   company  \\\n",
              "is_canceled                           -0.144832 -0.046770 -0.083594   \n",
              "lead_time                              0.002230 -0.013114 -0.085854   \n",
              "arrival_date_year                      0.031416  0.056438  0.033682   \n",
              "arrival_date_week_number               0.006311 -0.018225 -0.032912   \n",
              "arrival_date_day_of_month              0.011266  0.000159  0.003667   \n",
              "stays_in_weekend_nights                0.050191  0.162411 -0.080783   \n",
              "stays_in_week_nights                   0.080018  0.196777 -0.044437   \n",
              "adults                                -0.041472  0.023370 -0.166182   \n",
              "children                               0.051000  0.050461 -0.042554   \n",
              "babies                                 0.085605  0.030235 -0.009426   \n",
              "is_repeated_guest                      0.013044 -0.051584  0.161871   \n",
              "previous_cancellations                -0.027261 -0.018251 -0.001110   \n",
              "previous_bookings_not_canceled         0.011963 -0.046348  0.111220   \n",
              "booking_changes                        1.000000  0.038555  0.089768   \n",
              "agent                                  0.038555  1.000000 -0.121333   \n",
              "company                                0.089768 -0.121333  1.000000   \n",
              "days_in_waiting_list                  -0.011916 -0.041182 -0.022944   \n",
              "adr                                    0.026601  0.015711 -0.127641   \n",
              "required_car_parking_spaces            0.067490  0.119282  0.038638   \n",
              "total_of_special_requests              0.055003  0.060783 -0.090790   \n",
              "no_of_people                           0.006724  0.050796 -0.157852   \n",
              "charges_per_member_night               0.034253 -0.042536  0.006605   \n",
              "\n",
              "                                days_in_waiting_list       adr  \\\n",
              "is_canceled                                 0.054301  0.046492   \n",
              "lead_time                                   0.170008 -0.065018   \n",
              "arrival_date_year                          -0.056348  0.198429   \n",
              "arrival_date_week_number                    0.022677  0.076281   \n",
              "arrival_date_day_of_month                   0.022532  0.030291   \n",
              "stays_in_weekend_nights                    -0.054399  0.050670   \n",
              "stays_in_week_nights                       -0.002026  0.066847   \n",
              "adults                                     -0.008365  0.224253   \n",
              "children                                   -0.033293  0.325057   \n",
              "babies                                     -0.010627  0.029043   \n",
              "is_repeated_guest                          -0.022057 -0.130807   \n",
              "previous_cancellations                      0.005941 -0.065974   \n",
              "previous_bookings_not_canceled             -0.009416 -0.072335   \n",
              "booking_changes                            -0.011916  0.026601   \n",
              "agent                                      -0.041182  0.015711   \n",
              "company                                    -0.022944 -0.127641   \n",
              "days_in_waiting_list                        1.000000 -0.040859   \n",
              "adr                                        -0.040859  1.000000   \n",
              "required_car_parking_spaces                -0.030601  0.056510   \n",
              "total_of_special_requests                  -0.082755  0.172308   \n",
              "no_of_people                               -0.026606  0.363711   \n",
              "charges_per_member_night                   -0.019963  0.658573   \n",
              "\n",
              "                                required_car_parking_spaces  \\\n",
              "is_canceled                                       -0.195701   \n",
              "lead_time                                         -0.116624   \n",
              "arrival_date_year                                 -0.013812   \n",
              "arrival_date_week_number                           0.001980   \n",
              "arrival_date_day_of_month                          0.008569   \n",
              "stays_in_weekend_nights                           -0.018520   \n",
              "stays_in_week_nights                              -0.024933   \n",
              "adults                                             0.014438   \n",
              "children                                           0.056247   \n",
              "babies                                             0.037389   \n",
              "is_repeated_guest                                  0.077928   \n",
              "previous_cancellations                            -0.018540   \n",
              "previous_bookings_not_canceled                     0.047506   \n",
              "booking_changes                                    0.067490   \n",
              "agent                                              0.119282   \n",
              "company                                            0.038638   \n",
              "days_in_waiting_list                              -0.030601   \n",
              "adr                                                0.056510   \n",
              "required_car_parking_spaces                        1.000000   \n",
              "total_of_special_requests                          0.082718   \n",
              "no_of_people                                       0.047829   \n",
              "charges_per_member_night                           0.001728   \n",
              "\n",
              "                                total_of_special_requests  no_of_people  \\\n",
              "is_canceled                                     -0.234877      0.044826   \n",
              "lead_time                                       -0.095949      0.070210   \n",
              "arrival_date_year                                0.108610      0.052780   \n",
              "arrival_date_week_number                         0.026202      0.025752   \n",
              "arrival_date_day_of_month                        0.003026      0.006637   \n",
              "stays_in_weekend_nights                          0.073124      0.103938   \n",
              "stays_in_week_nights                             0.068738      0.104519   \n",
              "adults                                           0.123353      0.818861   \n",
              "children                                         0.081747      0.581591   \n",
              "babies                                           0.097939      0.163270   \n",
              "is_repeated_guest                                0.012963     -0.132008   \n",
              "previous_cancellations                          -0.048488     -0.020409   \n",
              "previous_bookings_not_canceled                   0.037775     -0.099680   \n",
              "booking_changes                                  0.055003      0.006724   \n",
              "agent                                            0.060783      0.050796   \n",
              "company                                         -0.090790     -0.157852   \n",
              "days_in_waiting_list                            -0.082755     -0.026606   \n",
              "adr                                              0.172308      0.363711   \n",
              "required_car_parking_spaces                      0.082718      0.047829   \n",
              "total_of_special_requests                        1.000000      0.157335   \n",
              "no_of_people                                     0.157335      1.000000   \n",
              "charges_per_member_night                         0.026919     -0.307604   \n",
              "\n",
              "                                charges_per_member_night  \n",
              "is_canceled                                     0.019529  \n",
              "lead_time                                      -0.126188  \n",
              "arrival_date_year                               0.138801  \n",
              "arrival_date_week_number                        0.053784  \n",
              "arrival_date_day_of_month                       0.022844  \n",
              "stays_in_weekend_nights                        -0.041267  \n",
              "stays_in_week_nights                           -0.029308  \n",
              "adults                                         -0.320915  \n",
              "children                                       -0.078930  \n",
              "babies                                         -0.051928  \n",
              "is_repeated_guest                              -0.033293  \n",
              "previous_cancellations                         -0.049718  \n",
              "previous_bookings_not_canceled                  0.001154  \n",
              "booking_changes                                 0.034253  \n",
              "agent                                          -0.042536  \n",
              "company                                         0.006605  \n",
              "days_in_waiting_list                           -0.019963  \n",
              "adr                                             0.658573  \n",
              "required_car_parking_spaces                     0.001728  \n",
              "total_of_special_requests                       0.026919  \n",
              "no_of_people                                   -0.307604  \n",
              "charges_per_member_night                        1.000000  \n",
              "\n",
              "[22 rows x 22 columns]"
            ],
            "text/html": [
              "\n",
              "  <div id=\"df-b37d1148-383d-4e62-87a7-756e01e4726e\">\n",
              "    <div class=\"colab-df-container\">\n",
              "      <div>\n",
              "<style scoped>\n",
              "    .dataframe tbody tr th:only-of-type {\n",
              "        vertical-align: middle;\n",
              "    }\n",
              "\n",
              "    .dataframe tbody tr th {\n",
              "        vertical-align: top;\n",
              "    }\n",
              "\n",
              "    .dataframe thead th {\n",
              "        text-align: right;\n",
              "    }\n",
              "</style>\n",
              "<table border=\"1\" class=\"dataframe\">\n",
              "  <thead>\n",
              "    <tr style=\"text-align: right;\">\n",
              "      <th></th>\n",
              "      <th>is_canceled</th>\n",
              "      <th>lead_time</th>\n",
              "      <th>arrival_date_year</th>\n",
              "      <th>arrival_date_week_number</th>\n",
              "      <th>arrival_date_day_of_month</th>\n",
              "      <th>stays_in_weekend_nights</th>\n",
              "      <th>stays_in_week_nights</th>\n",
              "      <th>adults</th>\n",
              "      <th>children</th>\n",
              "      <th>babies</th>\n",
              "      <th>...</th>\n",
              "      <th>previous_bookings_not_canceled</th>\n",
              "      <th>booking_changes</th>\n",
              "      <th>agent</th>\n",
              "      <th>company</th>\n",
              "      <th>days_in_waiting_list</th>\n",
              "      <th>adr</th>\n",
              "      <th>required_car_parking_spaces</th>\n",
              "      <th>total_of_special_requests</th>\n",
              "      <th>no_of_people</th>\n",
              "      <th>charges_per_member_night</th>\n",
              "    </tr>\n",
              "  </thead>\n",
              "  <tbody>\n",
              "    <tr>\n",
              "      <th>is_canceled</th>\n",
              "      <td>1.000000</td>\n",
              "      <td>0.292876</td>\n",
              "      <td>0.016622</td>\n",
              "      <td>0.008315</td>\n",
              "      <td>-0.005948</td>\n",
              "      <td>-0.001323</td>\n",
              "      <td>0.025542</td>\n",
              "      <td>0.058182</td>\n",
              "      <td>0.004851</td>\n",
              "      <td>-0.032569</td>\n",
              "      <td>...</td>\n",
              "      <td>-0.057365</td>\n",
              "      <td>-0.144832</td>\n",
              "      <td>-0.046770</td>\n",
              "      <td>-0.083594</td>\n",
              "      <td>0.054301</td>\n",
              "      <td>0.046492</td>\n",
              "      <td>-0.195701</td>\n",
              "      <td>-0.234877</td>\n",
              "      <td>0.044826</td>\n",
              "      <td>0.019529</td>\n",
              "    </tr>\n",
              "    <tr>\n",
              "      <th>lead_time</th>\n",
              "      <td>0.292876</td>\n",
              "      <td>1.000000</td>\n",
              "      <td>0.040334</td>\n",
              "      <td>0.127046</td>\n",
              "      <td>0.002306</td>\n",
              "      <td>0.085985</td>\n",
              "      <td>0.166892</td>\n",
              "      <td>0.117575</td>\n",
              "      <td>-0.037878</td>\n",
              "      <td>-0.021003</td>\n",
              "      <td>...</td>\n",
              "      <td>-0.073599</td>\n",
              "      <td>0.002230</td>\n",
              "      <td>-0.013114</td>\n",
              "      <td>-0.085854</td>\n",
              "      <td>0.170008</td>\n",
              "      <td>-0.065018</td>\n",
              "      <td>-0.116624</td>\n",
              "      <td>-0.095949</td>\n",
              "      <td>0.070210</td>\n",
              "      <td>-0.126188</td>\n",
              "    </tr>\n",
              "    <tr>\n",
              "      <th>arrival_date_year</th>\n",
              "      <td>0.016622</td>\n",
              "      <td>0.040334</td>\n",
              "      <td>1.000000</td>\n",
              "      <td>-0.540373</td>\n",
              "      <td>-0.000121</td>\n",
              "      <td>0.021694</td>\n",
              "      <td>0.031203</td>\n",
              "      <td>0.030266</td>\n",
              "      <td>0.054710</td>\n",
              "      <td>-0.013192</td>\n",
              "      <td>...</td>\n",
              "      <td>0.029234</td>\n",
              "      <td>0.031416</td>\n",
              "      <td>0.056438</td>\n",
              "      <td>0.033682</td>\n",
              "      <td>-0.056348</td>\n",
              "      <td>0.198429</td>\n",
              "      <td>-0.013812</td>\n",
              "      <td>0.108610</td>\n",
              "      <td>0.052780</td>\n",
              "      <td>0.138801</td>\n",
              "    </tr>\n",
              "    <tr>\n",
              "      <th>arrival_date_week_number</th>\n",
              "      <td>0.008315</td>\n",
              "      <td>0.127046</td>\n",
              "      <td>-0.540373</td>\n",
              "      <td>1.000000</td>\n",
              "      <td>0.066572</td>\n",
              "      <td>0.018629</td>\n",
              "      <td>0.016047</td>\n",
              "      <td>0.026567</td>\n",
              "      <td>0.005556</td>\n",
              "      <td>0.010417</td>\n",
              "      <td>...</td>\n",
              "      <td>-0.021009</td>\n",
              "      <td>0.006311</td>\n",
              "      <td>-0.018225</td>\n",
              "      <td>-0.032912</td>\n",
              "      <td>0.022677</td>\n",
              "      <td>0.076281</td>\n",
              "      <td>0.001980</td>\n",
              "      <td>0.026202</td>\n",
              "      <td>0.025752</td>\n",
              "      <td>0.053784</td>\n",
              "    </tr>\n",
              "    <tr>\n",
              "      <th>arrival_date_day_of_month</th>\n",
              "      <td>-0.005948</td>\n",
              "      <td>0.002306</td>\n",
              "      <td>-0.000121</td>\n",
              "      <td>0.066572</td>\n",
              "      <td>1.000000</td>\n",
              "      <td>-0.016225</td>\n",
              "      <td>-0.028362</td>\n",
              "      <td>-0.001754</td>\n",
              "      <td>0.014550</td>\n",
              "      <td>-0.000235</td>\n",
              "      <td>...</td>\n",
              "      <td>-0.000306</td>\n",
              "      <td>0.011266</td>\n",
              "      <td>0.000159</td>\n",
              "      <td>0.003667</td>\n",
              "      <td>0.022532</td>\n",
              "      <td>0.030291</td>\n",
              "      <td>0.008569</td>\n",
              "      <td>0.003026</td>\n",
              "      <td>0.006637</td>\n",
              "      <td>0.022844</td>\n",
              "    </tr>\n",
              "    <tr>\n",
              "      <th>stays_in_weekend_nights</th>\n",
              "      <td>-0.001323</td>\n",
              "      <td>0.085985</td>\n",
              "      <td>0.021694</td>\n",
              "      <td>0.018629</td>\n",
              "      <td>-0.016225</td>\n",
              "      <td>1.000000</td>\n",
              "      <td>0.494175</td>\n",
              "      <td>0.094759</td>\n",
              "      <td>0.046135</td>\n",
              "      <td>0.018607</td>\n",
              "      <td>...</td>\n",
              "      <td>-0.042859</td>\n",
              "      <td>0.050191</td>\n",
              "      <td>0.162411</td>\n",
              "      <td>-0.080783</td>\n",
              "      <td>-0.054399</td>\n",
              "      <td>0.050670</td>\n",
              "      <td>-0.018520</td>\n",
              "      <td>0.073124</td>\n",
              "      <td>0.103938</td>\n",
              "      <td>-0.041267</td>\n",
              "    </tr>\n",
              "    <tr>\n",
              "      <th>stays_in_week_nights</th>\n",
              "      <td>0.025542</td>\n",
              "      <td>0.166892</td>\n",
              "      <td>0.031203</td>\n",
              "      <td>0.016047</td>\n",
              "      <td>-0.028362</td>\n",
              "      <td>0.494175</td>\n",
              "      <td>1.000000</td>\n",
              "      <td>0.096214</td>\n",
              "      <td>0.044652</td>\n",
              "      <td>0.020373</td>\n",
              "      <td>...</td>\n",
              "      <td>-0.048873</td>\n",
              "      <td>0.080018</td>\n",
              "      <td>0.196777</td>\n",
              "      <td>-0.044437</td>\n",
              "      <td>-0.002026</td>\n",
              "      <td>0.066847</td>\n",
              "      <td>-0.024933</td>\n",
              "      <td>0.068738</td>\n",
              "      <td>0.104519</td>\n",
              "      <td>-0.029308</td>\n",
              "    </tr>\n",
              "    <tr>\n",
              "      <th>adults</th>\n",
              "      <td>0.058182</td>\n",
              "      <td>0.117575</td>\n",
              "      <td>0.030266</td>\n",
              "      <td>0.026567</td>\n",
              "      <td>-0.001754</td>\n",
              "      <td>0.094759</td>\n",
              "      <td>0.096214</td>\n",
              "      <td>1.000000</td>\n",
              "      <td>0.029409</td>\n",
              "      <td>0.017890</td>\n",
              "      <td>...</td>\n",
              "      <td>-0.108856</td>\n",
              "      <td>-0.041472</td>\n",
              "      <td>0.023370</td>\n",
              "      <td>-0.166182</td>\n",
              "      <td>-0.008365</td>\n",
              "      <td>0.224253</td>\n",
              "      <td>0.014438</td>\n",
              "      <td>0.123353</td>\n",
              "      <td>0.818861</td>\n",
              "      <td>-0.320915</td>\n",
              "    </tr>\n",
              "    <tr>\n",
              "      <th>children</th>\n",
              "      <td>0.004851</td>\n",
              "      <td>-0.037878</td>\n",
              "      <td>0.054710</td>\n",
              "      <td>0.005556</td>\n",
              "      <td>0.014550</td>\n",
              "      <td>0.046135</td>\n",
              "      <td>0.044652</td>\n",
              "      <td>0.029409</td>\n",
              "      <td>1.000000</td>\n",
              "      <td>0.023999</td>\n",
              "      <td>...</td>\n",
              "      <td>-0.021078</td>\n",
              "      <td>0.051000</td>\n",
              "      <td>0.050461</td>\n",
              "      <td>-0.042554</td>\n",
              "      <td>-0.033293</td>\n",
              "      <td>0.325057</td>\n",
              "      <td>0.056247</td>\n",
              "      <td>0.081747</td>\n",
              "      <td>0.581591</td>\n",
              "      <td>-0.078930</td>\n",
              "    </tr>\n",
              "    <tr>\n",
              "      <th>babies</th>\n",
              "      <td>-0.032569</td>\n",
              "      <td>-0.021003</td>\n",
              "      <td>-0.013192</td>\n",
              "      <td>0.010417</td>\n",
              "      <td>-0.000235</td>\n",
              "      <td>0.018607</td>\n",
              "      <td>0.020373</td>\n",
              "      <td>0.017890</td>\n",
              "      <td>0.023999</td>\n",
              "      <td>1.000000</td>\n",
              "      <td>...</td>\n",
              "      <td>-0.006552</td>\n",
              "      <td>0.085605</td>\n",
              "      <td>0.030235</td>\n",
              "      <td>-0.009426</td>\n",
              "      <td>-0.010627</td>\n",
              "      <td>0.029043</td>\n",
              "      <td>0.037389</td>\n",
              "      <td>0.097939</td>\n",
              "      <td>0.163270</td>\n",
              "      <td>-0.051928</td>\n",
              "    </tr>\n",
              "    <tr>\n",
              "      <th>is_repeated_guest</th>\n",
              "      <td>-0.083745</td>\n",
              "      <td>-0.123209</td>\n",
              "      <td>0.010281</td>\n",
              "      <td>-0.031125</td>\n",
              "      <td>-0.006471</td>\n",
              "      <td>-0.086009</td>\n",
              "      <td>-0.095302</td>\n",
              "      <td>-0.140973</td>\n",
              "      <td>-0.032475</td>\n",
              "      <td>-0.008813</td>\n",
              "      <td>...</td>\n",
              "      <td>0.420642</td>\n",
              "      <td>0.013044</td>\n",
              "      <td>-0.051584</td>\n",
              "      <td>0.161871</td>\n",
              "      <td>-0.022057</td>\n",
              "      <td>-0.130807</td>\n",
              "      <td>0.077928</td>\n",
              "      <td>0.012963</td>\n",
              "      <td>-0.132008</td>\n",
              "      <td>-0.033293</td>\n",
              "    </tr>\n",
              "    <tr>\n",
              "      <th>previous_cancellations</th>\n",
              "      <td>0.110139</td>\n",
              "      <td>0.086025</td>\n",
              "      <td>-0.119905</td>\n",
              "      <td>0.035493</td>\n",
              "      <td>-0.027027</td>\n",
              "      <td>-0.012769</td>\n",
              "      <td>-0.013976</td>\n",
              "      <td>-0.007070</td>\n",
              "      <td>-0.024755</td>\n",
              "      <td>-0.007509</td>\n",
              "      <td>...</td>\n",
              "      <td>0.152570</td>\n",
              "      <td>-0.027261</td>\n",
              "      <td>-0.018251</td>\n",
              "      <td>-0.001110</td>\n",
              "      <td>0.005941</td>\n",
              "      <td>-0.065974</td>\n",
              "      <td>-0.018540</td>\n",
              "      <td>-0.048488</td>\n",
              "      <td>-0.020409</td>\n",
              "      <td>-0.049718</td>\n",
              "    </tr>\n",
              "    <tr>\n",
              "      <th>previous_bookings_not_canceled</th>\n",
              "      <td>-0.057365</td>\n",
              "      <td>-0.073599</td>\n",
              "      <td>0.029234</td>\n",
              "      <td>-0.021009</td>\n",
              "      <td>-0.000306</td>\n",
              "      <td>-0.042859</td>\n",
              "      <td>-0.048873</td>\n",
              "      <td>-0.108856</td>\n",
              "      <td>-0.021078</td>\n",
              "      <td>-0.006552</td>\n",
              "      <td>...</td>\n",
              "      <td>1.000000</td>\n",
              "      <td>0.011963</td>\n",
              "      <td>-0.046348</td>\n",
              "      <td>0.111220</td>\n",
              "      <td>-0.009416</td>\n",
              "      <td>-0.072335</td>\n",
              "      <td>0.047506</td>\n",
              "      <td>0.037775</td>\n",
              "      <td>-0.099680</td>\n",
              "      <td>0.001154</td>\n",
              "    </tr>\n",
              "    <tr>\n",
              "      <th>booking_changes</th>\n",
              "      <td>-0.144832</td>\n",
              "      <td>0.002230</td>\n",
              "      <td>0.031416</td>\n",
              "      <td>0.006311</td>\n",
              "      <td>0.011266</td>\n",
              "      <td>0.050191</td>\n",
              "      <td>0.080018</td>\n",
              "      <td>-0.041472</td>\n",
              "      <td>0.051000</td>\n",
              "      <td>0.085605</td>\n",
              "      <td>...</td>\n",
              "      <td>0.011963</td>\n",
              "      <td>1.000000</td>\n",
              "      <td>0.038555</td>\n",
              "      <td>0.089768</td>\n",
              "      <td>-0.011916</td>\n",
              "      <td>0.026601</td>\n",
              "      <td>0.067490</td>\n",
              "      <td>0.055003</td>\n",
              "      <td>0.006724</td>\n",
              "      <td>0.034253</td>\n",
              "    </tr>\n",
              "    <tr>\n",
              "      <th>agent</th>\n",
              "      <td>-0.046770</td>\n",
              "      <td>-0.013114</td>\n",
              "      <td>0.056438</td>\n",
              "      <td>-0.018225</td>\n",
              "      <td>0.000159</td>\n",
              "      <td>0.162411</td>\n",
              "      <td>0.196777</td>\n",
              "      <td>0.023370</td>\n",
              "      <td>0.050461</td>\n",
              "      <td>0.030235</td>\n",
              "      <td>...</td>\n",
              "      <td>-0.046348</td>\n",
              "      <td>0.038555</td>\n",
              "      <td>1.000000</td>\n",
              "      <td>-0.121333</td>\n",
              "      <td>-0.041182</td>\n",
              "      <td>0.015711</td>\n",
              "      <td>0.119282</td>\n",
              "      <td>0.060783</td>\n",
              "      <td>0.050796</td>\n",
              "      <td>-0.042536</td>\n",
              "    </tr>\n",
              "    <tr>\n",
              "      <th>company</th>\n",
              "      <td>-0.083594</td>\n",
              "      <td>-0.085854</td>\n",
              "      <td>0.033682</td>\n",
              "      <td>-0.032912</td>\n",
              "      <td>0.003667</td>\n",
              "      <td>-0.080783</td>\n",
              "      <td>-0.044437</td>\n",
              "      <td>-0.166182</td>\n",
              "      <td>-0.042554</td>\n",
              "      <td>-0.009426</td>\n",
              "      <td>...</td>\n",
              "      <td>0.111220</td>\n",
              "      <td>0.089768</td>\n",
              "      <td>-0.121333</td>\n",
              "      <td>1.000000</td>\n",
              "      <td>-0.022944</td>\n",
              "      <td>-0.127641</td>\n",
              "      <td>0.038638</td>\n",
              "      <td>-0.090790</td>\n",
              "      <td>-0.157852</td>\n",
              "      <td>0.006605</td>\n",
              "    </tr>\n",
              "    <tr>\n",
              "      <th>days_in_waiting_list</th>\n",
              "      <td>0.054301</td>\n",
              "      <td>0.170008</td>\n",
              "      <td>-0.056348</td>\n",
              "      <td>0.022677</td>\n",
              "      <td>0.022532</td>\n",
              "      <td>-0.054399</td>\n",
              "      <td>-0.002026</td>\n",
              "      <td>-0.008365</td>\n",
              "      <td>-0.033293</td>\n",
              "      <td>-0.010627</td>\n",
              "      <td>...</td>\n",
              "      <td>-0.009416</td>\n",
              "      <td>-0.011916</td>\n",
              "      <td>-0.041182</td>\n",
              "      <td>-0.022944</td>\n",
              "      <td>1.000000</td>\n",
              "      <td>-0.040859</td>\n",
              "      <td>-0.030601</td>\n",
              "      <td>-0.082755</td>\n",
              "      <td>-0.026606</td>\n",
              "      <td>-0.019963</td>\n",
              "    </tr>\n",
              "    <tr>\n",
              "      <th>adr</th>\n",
              "      <td>0.046492</td>\n",
              "      <td>-0.065018</td>\n",
              "      <td>0.198429</td>\n",
              "      <td>0.076281</td>\n",
              "      <td>0.030291</td>\n",
              "      <td>0.050670</td>\n",
              "      <td>0.066847</td>\n",
              "      <td>0.224253</td>\n",
              "      <td>0.325057</td>\n",
              "      <td>0.029043</td>\n",
              "      <td>...</td>\n",
              "      <td>-0.072335</td>\n",
              "      <td>0.026601</td>\n",
              "      <td>0.015711</td>\n",
              "      <td>-0.127641</td>\n",
              "      <td>-0.040859</td>\n",
              "      <td>1.000000</td>\n",
              "      <td>0.056510</td>\n",
              "      <td>0.172308</td>\n",
              "      <td>0.363711</td>\n",
              "      <td>0.658573</td>\n",
              "    </tr>\n",
              "    <tr>\n",
              "      <th>required_car_parking_spaces</th>\n",
              "      <td>-0.195701</td>\n",
              "      <td>-0.116624</td>\n",
              "      <td>-0.013812</td>\n",
              "      <td>0.001980</td>\n",
              "      <td>0.008569</td>\n",
              "      <td>-0.018520</td>\n",
              "      <td>-0.024933</td>\n",
              "      <td>0.014438</td>\n",
              "      <td>0.056247</td>\n",
              "      <td>0.037389</td>\n",
              "      <td>...</td>\n",
              "      <td>0.047506</td>\n",
              "      <td>0.067490</td>\n",
              "      <td>0.119282</td>\n",
              "      <td>0.038638</td>\n",
              "      <td>-0.030601</td>\n",
              "      <td>0.056510</td>\n",
              "      <td>1.000000</td>\n",
              "      <td>0.082718</td>\n",
              "      <td>0.047829</td>\n",
              "      <td>0.001728</td>\n",
              "    </tr>\n",
              "    <tr>\n",
              "      <th>total_of_special_requests</th>\n",
              "      <td>-0.234877</td>\n",
              "      <td>-0.095949</td>\n",
              "      <td>0.108610</td>\n",
              "      <td>0.026202</td>\n",
              "      <td>0.003026</td>\n",
              "      <td>0.073124</td>\n",
              "      <td>0.068738</td>\n",
              "      <td>0.123353</td>\n",
              "      <td>0.081747</td>\n",
              "      <td>0.097939</td>\n",
              "      <td>...</td>\n",
              "      <td>0.037775</td>\n",
              "      <td>0.055003</td>\n",
              "      <td>0.060783</td>\n",
              "      <td>-0.090790</td>\n",
              "      <td>-0.082755</td>\n",
              "      <td>0.172308</td>\n",
              "      <td>0.082718</td>\n",
              "      <td>1.000000</td>\n",
              "      <td>0.157335</td>\n",
              "      <td>0.026919</td>\n",
              "    </tr>\n",
              "    <tr>\n",
              "      <th>no_of_people</th>\n",
              "      <td>0.044826</td>\n",
              "      <td>0.070210</td>\n",
              "      <td>0.052780</td>\n",
              "      <td>0.025752</td>\n",
              "      <td>0.006637</td>\n",
              "      <td>0.103938</td>\n",
              "      <td>0.104519</td>\n",
              "      <td>0.818861</td>\n",
              "      <td>0.581591</td>\n",
              "      <td>0.163270</td>\n",
              "      <td>...</td>\n",
              "      <td>-0.099680</td>\n",
              "      <td>0.006724</td>\n",
              "      <td>0.050796</td>\n",
              "      <td>-0.157852</td>\n",
              "      <td>-0.026606</td>\n",
              "      <td>0.363711</td>\n",
              "      <td>0.047829</td>\n",
              "      <td>0.157335</td>\n",
              "      <td>1.000000</td>\n",
              "      <td>-0.307604</td>\n",
              "    </tr>\n",
              "    <tr>\n",
              "      <th>charges_per_member_night</th>\n",
              "      <td>0.019529</td>\n",
              "      <td>-0.126188</td>\n",
              "      <td>0.138801</td>\n",
              "      <td>0.053784</td>\n",
              "      <td>0.022844</td>\n",
              "      <td>-0.041267</td>\n",
              "      <td>-0.029308</td>\n",
              "      <td>-0.320915</td>\n",
              "      <td>-0.078930</td>\n",
              "      <td>-0.051928</td>\n",
              "      <td>...</td>\n",
              "      <td>0.001154</td>\n",
              "      <td>0.034253</td>\n",
              "      <td>-0.042536</td>\n",
              "      <td>0.006605</td>\n",
              "      <td>-0.019963</td>\n",
              "      <td>0.658573</td>\n",
              "      <td>0.001728</td>\n",
              "      <td>0.026919</td>\n",
              "      <td>-0.307604</td>\n",
              "      <td>1.000000</td>\n",
              "    </tr>\n",
              "  </tbody>\n",
              "</table>\n",
              "<p>22 rows × 22 columns</p>\n",
              "</div>\n",
              "      <button class=\"colab-df-convert\" onclick=\"convertToInteractive('df-b37d1148-383d-4e62-87a7-756e01e4726e')\"\n",
              "              title=\"Convert this dataframe to an interactive table.\"\n",
              "              style=\"display:none;\">\n",
              "        \n",
              "  <svg xmlns=\"http://www.w3.org/2000/svg\" height=\"24px\"viewBox=\"0 0 24 24\"\n",
              "       width=\"24px\">\n",
              "    <path d=\"M0 0h24v24H0V0z\" fill=\"none\"/>\n",
              "    <path d=\"M18.56 5.44l.94 2.06.94-2.06 2.06-.94-2.06-.94-.94-2.06-.94 2.06-2.06.94zm-11 1L8.5 8.5l.94-2.06 2.06-.94-2.06-.94L8.5 2.5l-.94 2.06-2.06.94zm10 10l.94 2.06.94-2.06 2.06-.94-2.06-.94-.94-2.06-.94 2.06-2.06.94z\"/><path d=\"M17.41 7.96l-1.37-1.37c-.4-.4-.92-.59-1.43-.59-.52 0-1.04.2-1.43.59L10.3 9.45l-7.72 7.72c-.78.78-.78 2.05 0 2.83L4 21.41c.39.39.9.59 1.41.59.51 0 1.02-.2 1.41-.59l7.78-7.78 2.81-2.81c.8-.78.8-2.07 0-2.86zM5.41 20L4 18.59l7.72-7.72 1.47 1.35L5.41 20z\"/>\n",
              "  </svg>\n",
              "      </button>\n",
              "      \n",
              "  <style>\n",
              "    .colab-df-container {\n",
              "      display:flex;\n",
              "      flex-wrap:wrap;\n",
              "      gap: 12px;\n",
              "    }\n",
              "\n",
              "    .colab-df-convert {\n",
              "      background-color: #E8F0FE;\n",
              "      border: none;\n",
              "      border-radius: 50%;\n",
              "      cursor: pointer;\n",
              "      display: none;\n",
              "      fill: #1967D2;\n",
              "      height: 32px;\n",
              "      padding: 0 0 0 0;\n",
              "      width: 32px;\n",
              "    }\n",
              "\n",
              "    .colab-df-convert:hover {\n",
              "      background-color: #E2EBFA;\n",
              "      box-shadow: 0px 1px 2px rgba(60, 64, 67, 0.3), 0px 1px 3px 1px rgba(60, 64, 67, 0.15);\n",
              "      fill: #174EA6;\n",
              "    }\n",
              "\n",
              "    [theme=dark] .colab-df-convert {\n",
              "      background-color: #3B4455;\n",
              "      fill: #D2E3FC;\n",
              "    }\n",
              "\n",
              "    [theme=dark] .colab-df-convert:hover {\n",
              "      background-color: #434B5C;\n",
              "      box-shadow: 0px 1px 3px 1px rgba(0, 0, 0, 0.15);\n",
              "      filter: drop-shadow(0px 1px 2px rgba(0, 0, 0, 0.3));\n",
              "      fill: #FFFFFF;\n",
              "    }\n",
              "  </style>\n",
              "\n",
              "      <script>\n",
              "        const buttonEl =\n",
              "          document.querySelector('#df-b37d1148-383d-4e62-87a7-756e01e4726e button.colab-df-convert');\n",
              "        buttonEl.style.display =\n",
              "          google.colab.kernel.accessAllowed ? 'block' : 'none';\n",
              "\n",
              "        async function convertToInteractive(key) {\n",
              "          const element = document.querySelector('#df-b37d1148-383d-4e62-87a7-756e01e4726e');\n",
              "          const dataTable =\n",
              "            await google.colab.kernel.invokeFunction('convertToInteractive',\n",
              "                                                     [key], {});\n",
              "          if (!dataTable) return;\n",
              "\n",
              "          const docLinkHtml = 'Like what you see? Visit the ' +\n",
              "            '<a target=\"_blank\" href=https://colab.research.google.com/notebooks/data_table.ipynb>data table notebook</a>'\n",
              "            + ' to learn more about interactive tables.';\n",
              "          element.innerHTML = '';\n",
              "          dataTable['output_type'] = 'display_data';\n",
              "          await google.colab.output.renderOutput(dataTable, element);\n",
              "          const docLink = document.createElement('div');\n",
              "          docLink.innerHTML = docLinkHtml;\n",
              "          element.appendChild(docLink);\n",
              "        }\n",
              "      </script>\n",
              "    </div>\n",
              "  </div>\n",
              "  "
            ]
          },
          "metadata": {},
          "execution_count": 39
        },
        {
          "output_type": "display_data",
          "data": {
            "text/plain": [
              "<Figure size 1440x720 with 2 Axes>"
            ],
            "image/png": "[encoded data removed]"
          },
          "metadata": {
            "needs_background": "light"
          }
        }
      ]
    },
    {
      "cell_type": "markdown",
      "source": [
        "## *Thank you*"
      ],
      "metadata": {
        "id": "WoVCLgc99jcS"
      }
    }
  ]
}